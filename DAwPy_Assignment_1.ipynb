{
  "cells": [
    {
      "cell_type": "markdown",
      "metadata": {
        "id": "fepd5K3rAd-n"
      },
      "source": [
        "___\n",
        "\n",
        "<p style=\"text-align: center;\"><img src=\"https://docs.google.com/uc?id=1lY0Uj5R04yMY3-ZppPWxqCr5pvBLYPnV\" class=\"img-fluid\" \n",
        "alt=\"CLRSWY\"></p>\n",
        "\n",
        "## <p style=\"background-color:#FDFEFE; font-family:newtimeroman; color:#9d4f8c; font-size:100%; text-align:center; border-radius:10px 10px;\">WAY TO REINVENT YOURSELF</p>\n",
        "\n",
        "## <p style=\"background-color:#FDFEFE; font-family:newtimeroman; color:#060108; font-size:200%; text-align:center; border-radius:10px 10px;\">Data Analysis with Python</p>\n",
        "\n",
        "## <p style=\"background-color:#FDFEFE; font-family:newtimeroman; color:#4d77cf; font-size:200%; text-align:center; border-radius:10px 10px;\">Assignment 01 (NumPy & Pandas Basics)</p>"
      ]
    },
    {
      "cell_type": "markdown",
      "metadata": {
        "id": "QgGRQuSTVhSu"
      },
      "source": [
        "<a id=\"toc\"></a>\n",
        "\n",
        "## <p style=\"background-color:#9d4f8c; font-family:newtimeroman; color:#FFF9ED; font-size:175%; text-align:center; border-radius:10px 10px;\">Content</p>\n",
        "\n",
        "* [NUMPY SECTION](#0)\n",
        "* [PANDAS SECTION](#1)\n"
      ]
    },
    {
      "cell_type": "markdown",
      "metadata": {
        "id": "lFoJR2iTAd-v"
      },
      "source": [
        "**In this assignment you will start off with Numpy Exercises and then complete the whole Exercise with Pandas questions. All the subjects related to questions here already covered in preclass materials and in-class sessions. So good luck!**"
      ]
    },
    {
      "cell_type": "markdown",
      "metadata": {
        "id": "U5Q1-_ebVhSv"
      },
      "source": [
        "## <p style=\"background-color:#9d4f8c; font-family:newtimeroman; color:#FFF9ED; font-size:175%; text-align:center; border-radius:10px 10px;\">Numpy Section</p>\n",
        "\n",
        "<a id=\"0\"></a>\n",
        "<a href=\"#toc\" class=\"btn btn-primary btn-sm\" role=\"button\" aria-pressed=\"true\" \n",
        "style=\"color:blue; background-color:#dfa8e4\" data-toggle=\"popover\">Content</a>"
      ]
    },
    {
      "cell_type": "markdown",
      "metadata": {
        "id": "9LrbgcwYAd-w"
      },
      "source": [
        "### 1. Import NumPy Library."
      ]
    },
    {
      "cell_type": "code",
      "execution_count": 43,
      "metadata": {
        "id": "MymrsT_dAd-x"
      },
      "outputs": [],
      "source": [
        "# YOUR CODE IS HERE\n",
        "\n",
        "import numpy as np"
      ]
    },
    {
      "cell_type": "markdown",
      "metadata": {
        "id": "It1vT4JYAd-y"
      },
      "source": [
        "### 2. Create an array from my_list = [5, 10, 15, 20, 25]"
      ]
    },
    {
      "cell_type": "code",
      "execution_count": 44,
      "metadata": {
        "colab": {
          "base_uri": "https://localhost:8080/"
        },
        "id": "ptUAEWifVhSx",
        "outputId": "c4416f67-83ac-48fe-c386-83589d419fb3"
      },
      "outputs": [
        {
          "output_type": "execute_result",
          "data": {
            "text/plain": [
              "array([ 5, 10, 15, 20, 25])"
            ]
          },
          "metadata": {},
          "execution_count": 44
        }
      ],
      "source": [
        "# YOUR CODE IS HERE\n",
        "\n",
        "my_list = [5, 10, 15, 20, 25]\n",
        "\n",
        "np.array(my_list)"
      ]
    },
    {
      "cell_type": "raw",
      "metadata": {
        "id": "dPndrpKOAd-z",
        "outputId": "fa4080ee-8528-454e-d834-2d13d49bbec2"
      },
      "source": [
        "Desired Output:\n",
        "\n",
        "array([ 5, 10, 15, 20, 25])"
      ]
    },
    {
      "cell_type": "markdown",
      "metadata": {
        "id": "1hVeq_fEAd-1"
      },
      "source": [
        "### 3. Generate an array of 5x5 with zeros. "
      ]
    },
    {
      "cell_type": "code",
      "execution_count": 45,
      "metadata": {
        "id": "Y0R-L8hBAd-2",
        "outputId": "742e708a-7766-4a92-97b7-8869f9eb1dec",
        "colab": {
          "base_uri": "https://localhost:8080/"
        }
      },
      "outputs": [
        {
          "output_type": "execute_result",
          "data": {
            "text/plain": [
              "array([[0., 0., 0., 0., 0.],\n",
              "       [0., 0., 0., 0., 0.],\n",
              "       [0., 0., 0., 0., 0.],\n",
              "       [0., 0., 0., 0., 0.],\n",
              "       [0., 0., 0., 0., 0.]])"
            ]
          },
          "metadata": {},
          "execution_count": 45
        }
      ],
      "source": [
        "# YOUR CODE IS HERE\n",
        "\n",
        "np.zeros((5, 5))"
      ]
    },
    {
      "cell_type": "raw",
      "metadata": {
        "id": "xe8PEUwbVhS1"
      },
      "source": [
        "Desired Output:\n",
        "\n",
        "array([[0., 0., 0., 0., 0.],\n",
        "       [0., 0., 0., 0., 0.],\n",
        "       [0., 0., 0., 0., 0.],\n",
        "       [0., 0., 0., 0., 0.],\n",
        "       [0., 0., 0., 0., 0.]])"
      ]
    },
    {
      "cell_type": "markdown",
      "metadata": {
        "id": "lHhdpBa6Ad-3"
      },
      "source": [
        "### 4. Generate an array of 4x4 with ones and assign data type as int."
      ]
    },
    {
      "cell_type": "code",
      "execution_count": 46,
      "metadata": {
        "id": "s45bqkmOAd-3",
        "outputId": "b34cb192-4dec-482e-bf8d-55c912c4fb1f",
        "colab": {
          "base_uri": "https://localhost:8080/"
        }
      },
      "outputs": [
        {
          "output_type": "execute_result",
          "data": {
            "text/plain": [
              "array([[1, 1, 1, 1],\n",
              "       [1, 1, 1, 1],\n",
              "       [1, 1, 1, 1],\n",
              "       [1, 1, 1, 1]])"
            ]
          },
          "metadata": {},
          "execution_count": 46
        }
      ],
      "source": [
        "# YOUR CODE IS HERE\n",
        "\n",
        "np.ones((4, 4), dtype='int')"
      ]
    },
    {
      "cell_type": "raw",
      "metadata": {
        "id": "JJU5_wEqVhS2"
      },
      "source": [
        "Desired Output:\n",
        "\n",
        "array([[1, 1, 1, 1],\n",
        "       [1, 1, 1, 1],\n",
        "       [1, 1, 1, 1],\n",
        "       [1, 1, 1, 1]])"
      ]
    },
    {
      "cell_type": "markdown",
      "metadata": {
        "id": "1gD94nCeAd-5"
      },
      "source": [
        "### 5. Make all the values of the array above with the value of 7."
      ]
    },
    {
      "cell_type": "code",
      "execution_count": 47,
      "metadata": {
        "id": "L8fjsn5JAd-6",
        "outputId": "3847089e-d36e-4c92-f336-a5fd606d8082",
        "colab": {
          "base_uri": "https://localhost:8080/"
        }
      },
      "outputs": [
        {
          "output_type": "execute_result",
          "data": {
            "text/plain": [
              "array([[7, 7, 7, 7],\n",
              "       [7, 7, 7, 7],\n",
              "       [7, 7, 7, 7],\n",
              "       [7, 7, 7, 7]])"
            ]
          },
          "metadata": {},
          "execution_count": 47
        }
      ],
      "source": [
        "# YOUR CODE IS HERE\n",
        "\n",
        "np.ones((4, 4), dtype='int')*7"
      ]
    },
    {
      "cell_type": "raw",
      "metadata": {
        "id": "7_4CfRQiVhS3"
      },
      "source": [
        "Desired Output:\n",
        "\n",
        "array([[7, 7, 7, 7],\n",
        "       [7, 7, 7, 7],\n",
        "       [7, 7, 7, 7],\n",
        "       [7, 7, 7, 7]])"
      ]
    },
    {
      "cell_type": "markdown",
      "metadata": {
        "id": "XeOPD2dBAd-7"
      },
      "source": [
        "### 6. Create the previous array above by full() method."
      ]
    },
    {
      "cell_type": "code",
      "execution_count": 48,
      "metadata": {
        "id": "xqoPe_PJAd-7",
        "outputId": "256ab46a-32a7-4b88-fef4-83faf9c2aa3d",
        "colab": {
          "base_uri": "https://localhost:8080/"
        }
      },
      "outputs": [
        {
          "output_type": "execute_result",
          "data": {
            "text/plain": [
              "array([[7, 7, 7, 7],\n",
              "       [7, 7, 7, 7],\n",
              "       [7, 7, 7, 7],\n",
              "       [7, 7, 7, 7]])"
            ]
          },
          "metadata": {},
          "execution_count": 48
        }
      ],
      "source": [
        "# YOUR CODE IS HERE\n",
        "\n",
        "np.full((4, 4), 7, dtype='int')"
      ]
    },
    {
      "cell_type": "raw",
      "metadata": {
        "id": "shy67s_mVhS3"
      },
      "source": [
        "Desired Output:\n",
        "\n",
        "array([[7, 7, 7, 7],\n",
        "       [7, 7, 7, 7],\n",
        "       [7, 7, 7, 7],\n",
        "       [7, 7, 7, 7]])"
      ]
    },
    {
      "cell_type": "markdown",
      "metadata": {
        "id": "G8_xFCyQAd-8"
      },
      "source": [
        "### 7. Create an array of even integers from 2 to 16 (inclusive). "
      ]
    },
    {
      "cell_type": "code",
      "execution_count": 49,
      "metadata": {
        "id": "Nu6VInWWAd-8",
        "outputId": "81ced98c-f99b-4152-f0cc-0af6da445a8e",
        "colab": {
          "base_uri": "https://localhost:8080/"
        }
      },
      "outputs": [
        {
          "output_type": "execute_result",
          "data": {
            "text/plain": [
              "array([ 2,  4,  6,  8, 10, 12, 14, 16])"
            ]
          },
          "metadata": {},
          "execution_count": 49
        }
      ],
      "source": [
        "# YOUR CODE IS HERE\n",
        "\n",
        "np.arange(2, 17, 2)"
      ]
    },
    {
      "cell_type": "raw",
      "metadata": {
        "id": "oIL-jemBVhS4"
      },
      "source": [
        "array([ 2,  4,  6,  8, 10, 12, 14, 16])"
      ]
    },
    {
      "cell_type": "markdown",
      "metadata": {
        "id": "-SZvgEVVAd-9"
      },
      "source": [
        "### 8. Create a 5x5 matrix with the values between 0 to 25 (exclusive)."
      ]
    },
    {
      "cell_type": "code",
      "execution_count": 50,
      "metadata": {
        "id": "ddkmPCghAd--",
        "outputId": "ae55d41a-685b-474f-ab92-6df0fa15b201",
        "colab": {
          "base_uri": "https://localhost:8080/"
        }
      },
      "outputs": [
        {
          "output_type": "execute_result",
          "data": {
            "text/plain": [
              "array([[ 0,  1,  2,  3,  4],\n",
              "       [ 5,  6,  7,  8,  9],\n",
              "       [10, 11, 12, 13, 14],\n",
              "       [15, 16, 17, 18, 19],\n",
              "       [20, 21, 22, 23, 24]])"
            ]
          },
          "metadata": {},
          "execution_count": 50
        }
      ],
      "source": [
        "# YOUR CODE IS HERE\n",
        "\n",
        "np.arange(0, 25).reshape(5, 5)"
      ]
    },
    {
      "cell_type": "raw",
      "metadata": {
        "id": "Ddi5dRSfVhS5"
      },
      "source": [
        "Desired Output:\n",
        "\n",
        "array([[ 0,  1,  2,  3,  4],\n",
        "       [ 5,  6,  7,  8,  9],\n",
        "       [10, 11, 12, 13, 14],\n",
        "       [15, 16, 17, 18, 19],\n",
        "       [20, 21, 22, 23, 24]])"
      ]
    },
    {
      "cell_type": "markdown",
      "metadata": {
        "id": "-QuMw6v5Ad-_"
      },
      "source": [
        "### 9. Create a 5x5 matrix with the values between 0 to 25 (exclusive) using linspace method."
      ]
    },
    {
      "cell_type": "code",
      "execution_count": 51,
      "metadata": {
        "id": "4A195I5iAd_A",
        "outputId": "1b349ee3-218b-4897-cdf2-269d919862b0",
        "colab": {
          "base_uri": "https://localhost:8080/"
        }
      },
      "outputs": [
        {
          "output_type": "execute_result",
          "data": {
            "text/plain": [
              "array([[ 0,  1,  2,  3,  4],\n",
              "       [ 5,  6,  7,  8,  9],\n",
              "       [10, 11, 12, 13, 14],\n",
              "       [15, 16, 17, 18, 19],\n",
              "       [20, 21, 22, 23, 24]])"
            ]
          },
          "metadata": {},
          "execution_count": 51
        }
      ],
      "source": [
        "# YOUR CODE IS HERE\n",
        "\n",
        "# np.linspace(0, 24, 25, dtype='int').reshape(5, 5)\n",
        "np.linspace(0, 25, 25, dtype='int', endpoint=False).reshape(5, 5)"
      ]
    },
    {
      "cell_type": "raw",
      "metadata": {
        "id": "1eyNSPfqVhS6"
      },
      "source": [
        "Desired Output:\n",
        "\n",
        "array([[ 0,  1,  2,  3,  4],\n",
        "       [ 5,  6,  7,  8,  9],\n",
        "       [10, 11, 12, 13, 14],\n",
        "       [15, 16, 17, 18, 19],\n",
        "       [20, 21, 22, 23, 24]])"
      ]
    },
    {
      "cell_type": "markdown",
      "metadata": {
        "id": "xL-eRUXEAd_B"
      },
      "source": [
        "### 10. Create randomly 5 numbers with numpy."
      ]
    },
    {
      "cell_type": "code",
      "execution_count": 52,
      "metadata": {
        "id": "0xda3LnLAd_B",
        "outputId": "b1b3ba7a-b611-47eb-a220-cd0571f051ff",
        "colab": {
          "base_uri": "https://localhost:8080/"
        }
      },
      "outputs": [
        {
          "output_type": "execute_result",
          "data": {
            "text/plain": [
              "array([0.89620716, 0.65339825, 0.11068557, 0.97680677, 0.55970921])"
            ]
          },
          "metadata": {},
          "execution_count": 52
        }
      ],
      "source": [
        "# YOUR CODE IS HERE\n",
        "\n",
        "np.random.rand(5)"
      ]
    },
    {
      "cell_type": "raw",
      "metadata": {
        "id": "k3G-sQ7WVhS6"
      },
      "source": [
        "Desired Output (WATCH OUT! Your output will probably NOT be the same as the one below due to randomization):\n",
        "\n",
        "array([0.69664494, 0.66387647, 0.97508534, 0.33818591, 0.58766187])"
      ]
    },
    {
      "cell_type": "markdown",
      "metadata": {
        "id": "JXiZjg06Ad_C"
      },
      "source": [
        "### 11. Create an array of 5*5 shape and fills it with random values as per the standard normal distribution."
      ]
    },
    {
      "cell_type": "code",
      "execution_count": 53,
      "metadata": {
        "id": "KeJDVElTAd_C",
        "outputId": "b841a619-1a21-422b-d6f6-84876d835116",
        "colab": {
          "base_uri": "https://localhost:8080/"
        }
      },
      "outputs": [
        {
          "output_type": "execute_result",
          "data": {
            "text/plain": [
              "array([[ 0.95183619, -0.48417958, -0.0711221 , -0.26205631, -1.49860124],\n",
              "       [-1.11834327, -0.85741045,  1.54115783,  1.96906652,  2.33129211],\n",
              "       [-0.24970431, -0.62276695, -0.04560882,  0.27330914, -0.38667003],\n",
              "       [-1.8283406 ,  1.31489487, -0.5579714 , -0.80320241,  0.77190725],\n",
              "       [ 0.99490598,  0.57282292,  0.40028029,  0.27821904,  0.19292902]])"
            ]
          },
          "metadata": {},
          "execution_count": 53
        }
      ],
      "source": [
        "# YOUR CODE IS HERE\n",
        "\n",
        "np.random.randn(5, 5)"
      ]
    },
    {
      "cell_type": "raw",
      "metadata": {
        "id": "5iDNVBOpVhS7"
      },
      "source": [
        "Desired Output (WATCH OUT! Your output will probably NOT be the same as the one below due to randomization):\n",
        "\n",
        "array([[ 0.73087006, -0.34675846, -1.03601606, -0.61227298, -0.57078798],\n",
        "       [ 1.85976917, -0.37158111, -1.16789003, -0.81271697,  1.39620977],\n",
        "       [ 0.52695367, -0.19017673,  0.78067235, -1.3520313 ,  0.44878344],\n",
        "       [ 0.27758877,  0.75391726, -0.52652875,  0.74519765, -0.40414682],\n",
        "       [ 0.12743864, -0.81637521,  0.14086653, -0.29524574,  0.12703938]])"
      ]
    },
    {
      "cell_type": "markdown",
      "metadata": {
        "id": "iHRAL69DAd_D"
      },
      "source": [
        "### 12. Create a 3*4 array of random int numbers between 20 and 50."
      ]
    },
    {
      "cell_type": "code",
      "execution_count": 54,
      "metadata": {
        "id": "19owhlhjAd_D",
        "outputId": "f24fc03d-6c74-42e6-b794-d5e527a1eb1a",
        "colab": {
          "base_uri": "https://localhost:8080/"
        }
      },
      "outputs": [
        {
          "output_type": "execute_result",
          "data": {
            "text/plain": [
              "array([[22, 20, 20, 33],\n",
              "       [20, 22, 31, 25],\n",
              "       [29, 29, 41, 37]])"
            ]
          },
          "metadata": {},
          "execution_count": 54
        }
      ],
      "source": [
        "# YOUR CODE IS HERE\n",
        "\n",
        "np.random.randint(20, 50, size=(3, 4))"
      ]
    },
    {
      "cell_type": "raw",
      "metadata": {
        "id": "y2OHYAKeVhS8"
      },
      "source": [
        "Desired Output (WATCH OUT! Your output will probably NOT be the same as the one below due to randomization):\n",
        "\n",
        "array([[33, 39, 47, 26],\n",
        "       [41, 20, 32, 23],\n",
        "       [25, 22, 41, 28]])"
      ]
    },
    {
      "cell_type": "markdown",
      "metadata": {
        "id": "XpsHE5BsAd_E"
      },
      "source": [
        "### 13. Create an array named \"ranarr\"consisting of randomly 48 numbers and reshape this array with the shape of 6x8 in different ways."
      ]
    },
    {
      "cell_type": "code",
      "execution_count": 55,
      "metadata": {
        "code_folding": [],
        "id": "8DWl1ExmAd_E",
        "outputId": "57b68336-fcd5-44b7-8645-48447add6f6b",
        "colab": {
          "base_uri": "https://localhost:8080/"
        }
      },
      "outputs": [
        {
          "output_type": "execute_result",
          "data": {
            "text/plain": [
              "array([50, 46, 33, 22, 30,  8, 15, 12,  2, 33, 14, 54, 56, 15,  7, 16, 47,\n",
              "       48,  1, 55, 31, 15, 59, 28, 31, 12,  7, 33, 49, 28, 10, 42, 22, 35,\n",
              "       11, 16, 21, 28, 30, 47, 38, 23, 42, 27, 21, 14, 19, 14])"
            ]
          },
          "metadata": {},
          "execution_count": 55
        }
      ],
      "source": [
        "# YOUR CODE IS HERE\n",
        "\n",
        "ranarr = np.random.randint(0, 60, 48)\n",
        "ranarr"
      ]
    },
    {
      "cell_type": "raw",
      "metadata": {
        "id": "0Q-xZ8dOVhS8"
      },
      "source": [
        "Desired Output (WATCH OUT! Your output may NOT be the same as the one):\n",
        "\n",
        "array([ 6, 21, 18, 53, 38, 37, 30, 47, 19, 44, 29, 12, 14, 37, 24, 14, 16,\n",
        "       18,  3, 19, 19, 41, 28, 41,  3, 47,  4, 18, 27, 44, 15, 21,  5, 55,\n",
        "       38,  9,  5, 50, 15, 20,  7, 26, 45, 39, 37, 23,  6, 10])"
      ]
    },
    {
      "cell_type": "code",
      "execution_count": 56,
      "metadata": {
        "id": "3YxAvl1zAd_E",
        "outputId": "896a0903-0878-46c5-d73e-4b4f9d5a9d65",
        "colab": {
          "base_uri": "https://localhost:8080/"
        }
      },
      "outputs": [
        {
          "output_type": "execute_result",
          "data": {
            "text/plain": [
              "array([[50, 46, 33, 22, 30,  8, 15, 12],\n",
              "       [ 2, 33, 14, 54, 56, 15,  7, 16],\n",
              "       [47, 48,  1, 55, 31, 15, 59, 28],\n",
              "       [31, 12,  7, 33, 49, 28, 10, 42],\n",
              "       [22, 35, 11, 16, 21, 28, 30, 47],\n",
              "       [38, 23, 42, 27, 21, 14, 19, 14]])"
            ]
          },
          "metadata": {},
          "execution_count": 56
        }
      ],
      "source": [
        "# YOUR CODE IS HERE (RESHAPING WITH NUM)\n",
        "\n",
        "ranarr.reshape(6, 8)"
      ]
    },
    {
      "cell_type": "raw",
      "metadata": {
        "id": "EigQ3EI6VhS9"
      },
      "source": [
        "Desired Output (WATCH OUT! Your output may NOT be the same as the one):\n",
        "\n",
        "array([[ 6, 21, 18, 53, 38, 37, 30, 47],\n",
        "       [19, 44, 29, 12, 14, 37, 24, 14],\n",
        "       [16, 18,  3, 19, 19, 41, 28, 41],\n",
        "       [ 3, 47,  4, 18, 27, 44, 15, 21],\n",
        "       [ 5, 55, 38,  9,  5, 50, 15, 20],\n",
        "       [ 7, 26, 45, 39, 37, 23,  6, 10]])"
      ]
    },
    {
      "cell_type": "code",
      "execution_count": 57,
      "metadata": {
        "id": "5PJczaI-Ad_F",
        "outputId": "f9e3e1bb-a817-4aba-ecfb-72fe1a42b6da",
        "colab": {
          "base_uri": "https://localhost:8080/"
        }
      },
      "outputs": [
        {
          "output_type": "execute_result",
          "data": {
            "text/plain": [
              "array([[50, 46, 33, 22, 30,  8, 15, 12],\n",
              "       [ 2, 33, 14, 54, 56, 15,  7, 16],\n",
              "       [47, 48,  1, 55, 31, 15, 59, 28],\n",
              "       [31, 12,  7, 33, 49, 28, 10, 42],\n",
              "       [22, 35, 11, 16, 21, 28, 30, 47],\n",
              "       [38, 23, 42, 27, 21, 14, 19, 14]])"
            ]
          },
          "metadata": {},
          "execution_count": 57
        }
      ],
      "source": [
        "# YOUR CODE IS HERE (RESHAPING WITH -1)\n",
        "\n",
        "ranarr.reshape(-1, 8)"
      ]
    },
    {
      "cell_type": "raw",
      "metadata": {
        "id": "32D0r4-1VhS9"
      },
      "source": [
        "Desired Output (WATCH OUT! Your output may NOT be the same as the one):\n",
        "\n",
        "array([[ 6, 21, 18, 53, 38, 37, 30, 47],\n",
        "       [19, 44, 29, 12, 14, 37, 24, 14],\n",
        "       [16, 18,  3, 19, 19, 41, 28, 41],\n",
        "       [ 3, 47,  4, 18, 27, 44, 15, 21],\n",
        "       [ 5, 55, 38,  9,  5, 50, 15, 20],\n",
        "       [ 7, 26, 45, 39, 37, 23,  6, 10]])"
      ]
    },
    {
      "cell_type": "code",
      "execution_count": 58,
      "metadata": {
        "colab": {
          "base_uri": "https://localhost:8080/"
        },
        "id": "mBmixtRxVhS-",
        "outputId": "471c31c0-7781-46c2-f418-f0e9e99c5c7f"
      },
      "outputs": [
        {
          "output_type": "execute_result",
          "data": {
            "text/plain": [
              "array([[50, 46, 33, 22, 30,  8, 15, 12],\n",
              "       [ 2, 33, 14, 54, 56, 15,  7, 16],\n",
              "       [47, 48,  1, 55, 31, 15, 59, 28],\n",
              "       [31, 12,  7, 33, 49, 28, 10, 42],\n",
              "       [22, 35, 11, 16, 21, 28, 30, 47],\n",
              "       [38, 23, 42, 27, 21, 14, 19, 14]])"
            ]
          },
          "metadata": {},
          "execution_count": 58
        }
      ],
      "source": [
        "# YOUR CODE IS HERE (RESHAPING WITH -1)\n",
        "\n",
        "ranarr.reshape(6, -1)"
      ]
    },
    {
      "cell_type": "raw",
      "metadata": {
        "id": "pddQ2N_5VhS-"
      },
      "source": [
        "Desired Output (WATCH OUT! Your output may NOT be the same as the one):\n",
        "\n",
        "array([[ 6, 21, 18, 53, 38, 37, 30, 47],\n",
        "       [19, 44, 29, 12, 14, 37, 24, 14],\n",
        "       [16, 18,  3, 19, 19, 41, 28, 41],\n",
        "       [ 3, 47,  4, 18, 27, 44, 15, 21],\n",
        "       [ 5, 55, 38,  9,  5, 50, 15, 20],\n",
        "       [ 7, 26, 45, 39, 37, 23,  6, 10]])"
      ]
    },
    {
      "cell_type": "markdown",
      "metadata": {
        "id": "md-mowhTVhS-"
      },
      "source": [
        "The -1 stands for \"unknown dimension\" which can be inferred from another dimension. -1 corresponds to the unknown count of the row or column. It simply means that you are not sure about what number of rows or columns you can give and you are asking numpy to suggest a number of column or rows to get reshaped in. [Stackoverflow discussion on What does -1 mean in numpy reshape?](https://stackoverflow.com/questions/18691084/what-does-1-mean-in-numpy-reshape)"
      ]
    },
    {
      "cell_type": "markdown",
      "metadata": {
        "id": "jB4suWaXAd_F"
      },
      "source": [
        "## Numpy Indexing and Selection"
      ]
    },
    {
      "cell_type": "markdown",
      "metadata": {
        "id": "fTdYoXO-VhS-"
      },
      "source": [
        "### Create an array named \"mat\" in accordence with the desired output below."
      ]
    },
    {
      "cell_type": "code",
      "execution_count": 59,
      "metadata": {
        "id": "x2zNGxNkAd_F",
        "outputId": "3b3af8a9-9c19-47b3-d530-1620c29da174",
        "colab": {
          "base_uri": "https://localhost:8080/"
        }
      },
      "outputs": [
        {
          "output_type": "execute_result",
          "data": {
            "text/plain": [
              "array([[ 1,  2,  3,  4],\n",
              "       [ 5,  6,  7,  8],\n",
              "       [ 9, 10, 11, 12],\n",
              "       [13, 14, 15, 16]])"
            ]
          },
          "metadata": {},
          "execution_count": 59
        }
      ],
      "source": [
        "# YOUR CODE IS HERE \n",
        "\n",
        "mat = np.arange(1, 17).reshape(4, 4)\n",
        "mat"
      ]
    },
    {
      "cell_type": "raw",
      "metadata": {
        "id": "V3b9clfNVhS_"
      },
      "source": [
        "Desired Output:\n",
        "\n",
        "array([[ 1,  2,  3,  4],\n",
        "       [ 5,  6,  7,  8],\n",
        "       [ 9, 10, 11, 12],\n",
        "       [13, 14, 15, 16]])"
      ]
    },
    {
      "cell_type": "markdown",
      "metadata": {
        "id": "wyNXBC0GAd_G"
      },
      "source": [
        "### 14. Using the array above, write a code that reproduces the desired output shown below.<br>"
      ]
    },
    {
      "cell_type": "code",
      "execution_count": 60,
      "metadata": {
        "id": "k6FmQqjxAd_G",
        "outputId": "13bcb976-92f1-49b3-ef51-54e99d939479",
        "colab": {
          "base_uri": "https://localhost:8080/"
        }
      },
      "outputs": [
        {
          "output_type": "execute_result",
          "data": {
            "text/plain": [
              "array([[ 6,  7],\n",
              "       [10, 11]])"
            ]
          },
          "metadata": {},
          "execution_count": 60
        }
      ],
      "source": [
        "# YOUR CODE IS HERE \n",
        "\n",
        "mat[1:3, 1:3]"
      ]
    },
    {
      "cell_type": "raw",
      "metadata": {
        "id": "mA8b0-kBVhS_"
      },
      "source": [
        "Desired Output:\n",
        "\n",
        "array([[ 6,  7],\n",
        "       [10, 11]])"
      ]
    },
    {
      "cell_type": "markdown",
      "metadata": {
        "id": "bUShSGkJAd_G"
      },
      "source": [
        "### 15. Get the 1st column (index number 0) of the array above."
      ]
    },
    {
      "cell_type": "code",
      "execution_count": 61,
      "metadata": {
        "id": "Wv7YR2drAd_G",
        "outputId": "5aef1c71-d8a5-4999-de32-ea92467c675e",
        "colab": {
          "base_uri": "https://localhost:8080/"
        }
      },
      "outputs": [
        {
          "output_type": "execute_result",
          "data": {
            "text/plain": [
              "array([ 1,  5,  9, 13])"
            ]
          },
          "metadata": {},
          "execution_count": 61
        }
      ],
      "source": [
        "# YOUR CODE IS HERE \n",
        "\n",
        "mat[:, 0]"
      ]
    },
    {
      "cell_type": "raw",
      "metadata": {
        "id": "yNLyygNsVhTA"
      },
      "source": [
        "Desired Output:\n",
        "\n",
        "array([ 1,  5,  9, 13])"
      ]
    },
    {
      "cell_type": "markdown",
      "metadata": {
        "id": "GGdWljRJAd_H"
      },
      "source": [
        "### 16. Get the values in 2nd row (index number 1) for every 2 step."
      ]
    },
    {
      "cell_type": "code",
      "execution_count": 62,
      "metadata": {
        "id": "7e6tP0NlAd_H",
        "outputId": "4f7f5cfe-7f95-4782-ed55-6de14b68ae45",
        "colab": {
          "base_uri": "https://localhost:8080/"
        }
      },
      "outputs": [
        {
          "output_type": "execute_result",
          "data": {
            "text/plain": [
              "array([5, 7])"
            ]
          },
          "metadata": {},
          "execution_count": 62
        }
      ],
      "source": [
        "# YOUR CODE IS HERE \n",
        "\n",
        "mat[1, ::2]"
      ]
    },
    {
      "cell_type": "raw",
      "metadata": {
        "id": "aprxSVWcVhTB"
      },
      "source": [
        "Desired Output:\n",
        "\n",
        "array([5, 7])"
      ]
    },
    {
      "cell_type": "markdown",
      "metadata": {
        "id": "aANYlDooAd_H"
      },
      "source": [
        "### 17.Assign 77 to every cell in 3rd column."
      ]
    },
    {
      "cell_type": "code",
      "execution_count": 63,
      "metadata": {
        "id": "oy5AxrK1Ad_I",
        "outputId": "292155a9-de8d-4112-ef96-c992d348ea46",
        "colab": {
          "base_uri": "https://localhost:8080/"
        }
      },
      "outputs": [
        {
          "output_type": "execute_result",
          "data": {
            "text/plain": [
              "array([[ 1,  2, 77,  4],\n",
              "       [ 5,  6, 77,  8],\n",
              "       [ 9, 10, 77, 12],\n",
              "       [13, 14, 77, 16]])"
            ]
          },
          "metadata": {},
          "execution_count": 63
        }
      ],
      "source": [
        "# YOUR CODE IS HERE \n",
        "\n",
        "mat[:, 2] = 77\n",
        "mat"
      ]
    },
    {
      "cell_type": "markdown",
      "metadata": {
        "id": "LXDUn6BcVhTB"
      },
      "source": [
        "We can assign new values to an element of a NumPy array using the **``=``** operator, just like regular python lists."
      ]
    },
    {
      "cell_type": "raw",
      "metadata": {
        "id": "F7Y6RiE4VhTB"
      },
      "source": [
        "Desired Output:\n",
        "\n",
        "array([[ 1,  2, 77,  4],\n",
        "       [ 5,  6, 77,  8],\n",
        "       [ 9, 10, 77, 12],\n",
        "       [13, 14, 77, 16]])"
      ]
    },
    {
      "cell_type": "markdown",
      "metadata": {
        "id": "OsrIo34xAd_I"
      },
      "source": [
        "### 18. (a) Take 2nd row (index number 1) and 1st column (index number 0) , (b) 4th row (index number 3) and 3rd column (index number 2) ."
      ]
    },
    {
      "cell_type": "code",
      "execution_count": 64,
      "metadata": {
        "id": "fESSmtPDAd_I",
        "outputId": "97a924d3-ad8e-43eb-c5e7-f88c1db4546d",
        "colab": {
          "base_uri": "https://localhost:8080/"
        }
      },
      "outputs": [
        {
          "output_type": "execute_result",
          "data": {
            "text/plain": [
              "array([ 5, 77])"
            ]
          },
          "metadata": {},
          "execution_count": 64
        }
      ],
      "source": [
        "# YOUR CODE IS HERE \n",
        "\n",
        "mat[[1, 3], [0, 2]]"
      ]
    },
    {
      "cell_type": "raw",
      "metadata": {
        "id": "9moMHXA8VhTC"
      },
      "source": [
        "Desired Output:\n",
        "\n",
        "array([ 5, 77])"
      ]
    },
    {
      "cell_type": "markdown",
      "metadata": {
        "id": "dsZDs5vjAd_J"
      },
      "source": [
        "### 19. Take between 2nd and last row with step 2 and between 1st and last column with step 2."
      ]
    },
    {
      "cell_type": "code",
      "execution_count": 65,
      "metadata": {
        "id": "0IW0GtfCAd_J",
        "outputId": "596eb6b1-4c2a-4f87-9cbd-014d91ef6369",
        "colab": {
          "base_uri": "https://localhost:8080/"
        }
      },
      "outputs": [
        {
          "output_type": "execute_result",
          "data": {
            "text/plain": [
              "array([[ 5, 77],\n",
              "       [13, 77]])"
            ]
          },
          "metadata": {},
          "execution_count": 65
        }
      ],
      "source": [
        "# YOUR CODE IS HERE \n",
        "\n",
        "mat[1::2, 0::2]"
      ]
    },
    {
      "cell_type": "raw",
      "metadata": {
        "id": "_u7h_4pjVhTD"
      },
      "source": [
        "Desired Output:\n",
        "\n",
        "array([[ 5, 77],\n",
        "       [13, 77]])"
      ]
    },
    {
      "cell_type": "markdown",
      "metadata": {
        "id": "G1aoEVaJAd_J"
      },
      "source": [
        "## NumPy Operations"
      ]
    },
    {
      "cell_type": "markdown",
      "metadata": {
        "id": "2p7ZbeTLAd_K"
      },
      "source": [
        "### 20. Get the sum of values smaller than 10 and values bigger than 12 in \"mat\"."
      ]
    },
    {
      "cell_type": "code",
      "execution_count": 66,
      "metadata": {
        "colab": {
          "base_uri": "https://localhost:8080/"
        },
        "id": "uiyu8fizVhTD",
        "outputId": "fd29d495-aa12-4c16-d3ff-781cca552a09"
      },
      "outputs": [
        {
          "output_type": "execute_result",
          "data": {
            "text/plain": [
              "array([[ 1,  2, 77,  4],\n",
              "       [ 5,  6, 77,  8],\n",
              "       [ 9, 10, 77, 12],\n",
              "       [13, 14, 77, 16]])"
            ]
          },
          "metadata": {},
          "execution_count": 66
        }
      ],
      "source": [
        "# LET US REMEMBER OUR ARRAY OF \"mat\" \n",
        "\n",
        "# YOUR CODE IS HERE \n",
        "\n",
        "mat"
      ]
    },
    {
      "cell_type": "raw",
      "metadata": {
        "id": "imUwbVFTVhTD"
      },
      "source": [
        "Desired Output:\n",
        "\n",
        "array([[ 1,  2, 77,  4],\n",
        "       [ 5,  6, 77,  8],\n",
        "       [ 9, 10, 77, 12],\n",
        "       [13, 14, 77, 16]])"
      ]
    },
    {
      "cell_type": "code",
      "execution_count": 67,
      "metadata": {
        "id": "LD_0rzT6Ad_K",
        "outputId": "2063ea78-4703-4555-ac28-7767ae3c1f49",
        "colab": {
          "base_uri": "https://localhost:8080/"
        }
      },
      "outputs": [
        {
          "output_type": "execute_result",
          "data": {
            "text/plain": [
              "array([1, 2, 4, 5, 6, 8, 9])"
            ]
          },
          "metadata": {},
          "execution_count": 67
        }
      ],
      "source": [
        "# LET US FIND THE VALUES SMALLER THAN 10 IN \"mat\" \n",
        "\n",
        "# YOUR CODE IS HERE \n",
        "\n",
        "mat[mat<10]"
      ]
    },
    {
      "cell_type": "raw",
      "metadata": {
        "id": "DsYTXXbNVhTE"
      },
      "source": [
        "Desired Output:\n",
        "\n",
        "array([1, 2, 4, 5, 6, 8, 9])"
      ]
    },
    {
      "cell_type": "code",
      "execution_count": 68,
      "metadata": {
        "id": "RIpotHKeAd_K",
        "outputId": "604b5cc6-1c72-4b6b-e80c-6a9b71d3a309",
        "colab": {
          "base_uri": "https://localhost:8080/"
        }
      },
      "outputs": [
        {
          "output_type": "execute_result",
          "data": {
            "text/plain": [
              "array([77, 77, 77, 13, 14, 77, 16])"
            ]
          },
          "metadata": {},
          "execution_count": 68
        }
      ],
      "source": [
        "# LET US FIND THE VALUES BIGGER THAN 12 IN \"mat\" \n",
        "\n",
        "# YOUR CODE IS HERE \n",
        "\n",
        "mat[mat>12]"
      ]
    },
    {
      "cell_type": "raw",
      "metadata": {
        "id": "VjJstktaVhTE"
      },
      "source": [
        "Desired Output:\n",
        "\n",
        "array([77, 77, 77, 13, 14, 77, 16])"
      ]
    },
    {
      "cell_type": "code",
      "execution_count": 69,
      "metadata": {
        "id": "m4XkRQFiAd_K",
        "outputId": "deb9a52d-300e-4867-e8a6-d42c7008907c",
        "colab": {
          "base_uri": "https://localhost:8080/"
        }
      },
      "outputs": [
        {
          "output_type": "execute_result",
          "data": {
            "text/plain": [
              "array([78, 79, 81, 18, 20, 85, 25])"
            ]
          },
          "metadata": {},
          "execution_count": 69
        }
      ],
      "source": [
        "# LET US SUM THE VALUES SMALLER THAN 10 AND BIGGER THAN 12 IN \"mat\" \n",
        "\n",
        "# YOUR CODE IS HERE \n",
        "\n",
        "mat[mat<10] + mat[mat>12]"
      ]
    },
    {
      "cell_type": "raw",
      "metadata": {
        "id": "F4hCVvzdVhTF"
      },
      "source": [
        "Desired Output:\n",
        "\n",
        "array([78, 79, 81, 18, 20, 85, 25])"
      ]
    },
    {
      "cell_type": "markdown",
      "metadata": {
        "id": "adWvgD-oAd_L"
      },
      "source": [
        "### 21. Get the standard deviation (std) of the result above."
      ]
    },
    {
      "cell_type": "code",
      "execution_count": 70,
      "metadata": {
        "id": "96DAIF1fAd_L",
        "outputId": "b872c068-fd8b-495a-f216-63f517bbfe4b",
        "colab": {
          "base_uri": "https://localhost:8080/"
        }
      },
      "outputs": [
        {
          "output_type": "execute_result",
          "data": {
            "text/plain": [
              "29.700546274093877"
            ]
          },
          "metadata": {},
          "execution_count": 70
        }
      ],
      "source": [
        "# YOUR CODE IS HERE \n",
        "\n",
        "(mat[mat<10] + mat[mat>12]).std()"
      ]
    },
    {
      "cell_type": "raw",
      "metadata": {
        "id": "RTZ1mclwVhTF"
      },
      "source": [
        "Desired Output:\n",
        "\n",
        "29.700546274093877"
      ]
    },
    {
      "cell_type": "markdown",
      "metadata": {
        "id": "FkhK2cOqAd_L"
      },
      "source": [
        "### 22. Get the sum of the 2nd column (index number 1) in the original \"mat\"."
      ]
    },
    {
      "cell_type": "code",
      "execution_count": 71,
      "metadata": {
        "id": "XDQqGSzkAd_M",
        "outputId": "670acded-a5f9-450b-98a7-084ea1be4918",
        "colab": {
          "base_uri": "https://localhost:8080/"
        }
      },
      "outputs": [
        {
          "output_type": "execute_result",
          "data": {
            "text/plain": [
              "array([[ 1,  2, 77,  4],\n",
              "       [ 5,  6, 77,  8],\n",
              "       [ 9, 10, 77, 12],\n",
              "       [13, 14, 77, 16]])"
            ]
          },
          "metadata": {},
          "execution_count": 71
        }
      ],
      "source": [
        "# LET US REMEMBER OUR ARRAY OF \"mat\" \n",
        "\n",
        "# YOUR CODE IS HERE \n",
        "\n",
        "mat"
      ]
    },
    {
      "cell_type": "raw",
      "metadata": {
        "id": "hWBCck_YVhTG"
      },
      "source": [
        "Desired Output:\n",
        "\n",
        "array([[ 1,  2, 77,  4],\n",
        "       [ 5,  6, 77,  8],\n",
        "       [ 9, 10, 77, 12],\n",
        "       [13, 14, 77, 16]])"
      ]
    },
    {
      "cell_type": "code",
      "execution_count": 72,
      "metadata": {
        "id": "qNeP5ttGAd_M",
        "outputId": "c22aab67-72d9-40be-ab7c-c6d7c195702a",
        "colab": {
          "base_uri": "https://localhost:8080/"
        }
      },
      "outputs": [
        {
          "output_type": "execute_result",
          "data": {
            "text/plain": [
              "array([[ 1,  2,  3,  4],\n",
              "       [ 5,  6,  7,  8],\n",
              "       [ 9, 10, 11, 12],\n",
              "       [13, 14, 15, 16]])"
            ]
          },
          "metadata": {},
          "execution_count": 72
        }
      ],
      "source": [
        "# LET OBTAIN THE ORIGINAL ARRAY OF \"mat\" \n",
        "\n",
        "# YOUR CODE IS HERE \n",
        "\n",
        "mat[:, 2] = [3, 7, 11, 15]\n",
        "mat"
      ]
    },
    {
      "cell_type": "raw",
      "metadata": {
        "id": "Ag-Olp-kVhTG"
      },
      "source": [
        "Desired Output:\n",
        "\n",
        "array([[ 1,  2,  3,  4],\n",
        "       [ 5,  6,  7,  8],\n",
        "       [ 9, 10, 11, 12],\n",
        "       [13, 14, 15, 16]])"
      ]
    },
    {
      "cell_type": "code",
      "execution_count": 73,
      "metadata": {
        "id": "xzqyV2SZAd_M",
        "outputId": "4fd889d2-e216-43a2-8068-c95dc0c35d6b",
        "scrolled": true,
        "colab": {
          "base_uri": "https://localhost:8080/"
        }
      },
      "outputs": [
        {
          "output_type": "execute_result",
          "data": {
            "text/plain": [
              "32"
            ]
          },
          "metadata": {},
          "execution_count": 73
        }
      ],
      "source": [
        "# YOUR CODE IS HERE \n",
        "\n",
        "mat[:, 1].sum(axis=0)"
      ]
    },
    {
      "cell_type": "raw",
      "metadata": {
        "id": "u5AZMrSkVhTH"
      },
      "source": [
        "Desired Output:\n",
        "\n",
        "32"
      ]
    },
    {
      "cell_type": "markdown",
      "metadata": {
        "id": "kCQ1GvPUAd_N"
      },
      "source": [
        "### 23. Get the median, mean and std of 3rd column (index number 2) in \"mat\"."
      ]
    },
    {
      "cell_type": "code",
      "execution_count": 74,
      "metadata": {
        "colab": {
          "base_uri": "https://localhost:8080/"
        },
        "id": "1AXjI_MbVhTH",
        "outputId": "9f59febc-7f07-46ef-e004-67c0ed10bad4"
      },
      "outputs": [
        {
          "output_type": "execute_result",
          "data": {
            "text/plain": [
              "array([[ 1,  2,  3,  4],\n",
              "       [ 5,  6,  7,  8],\n",
              "       [ 9, 10, 11, 12],\n",
              "       [13, 14, 15, 16]])"
            ]
          },
          "metadata": {},
          "execution_count": 74
        }
      ],
      "source": [
        "# LET US REMEMBER OUR ARRAY OF \"mat\" \n",
        "\n",
        "# YOUR CODE IS HERE \n",
        "\n",
        "mat"
      ]
    },
    {
      "cell_type": "raw",
      "metadata": {
        "id": "6hPbjujbVhTH"
      },
      "source": [
        "Desired Output:\n",
        "\n",
        "array([[ 1,  2,  3,  4],\n",
        "       [ 5,  6,  7,  8],\n",
        "       [ 9, 10, 11, 12],\n",
        "       [13, 14, 15, 16]])"
      ]
    },
    {
      "cell_type": "code",
      "execution_count": 75,
      "metadata": {
        "colab": {
          "base_uri": "https://localhost:8080/"
        },
        "id": "4hkSxstlVhTH",
        "outputId": "6bd2605a-8a3a-49d9-b795-7dc4687d7bd0"
      },
      "outputs": [
        {
          "output_type": "execute_result",
          "data": {
            "text/plain": [
              "array([[ 3],\n",
              "       [ 7],\n",
              "       [11],\n",
              "       [15]])"
            ]
          },
          "metadata": {},
          "execution_count": 75
        }
      ],
      "source": [
        "# LET US ASSIGN THE COLUMN WE ARE INTERESTED IN TO A VARIABLE \n",
        "\n",
        "# YOUR CODE IS HERE \n",
        "\n",
        "a = mat[:, 2:3]\n",
        "a"
      ]
    },
    {
      "cell_type": "raw",
      "metadata": {
        "id": "ZA5EQOnGVhTI"
      },
      "source": [
        "Desired Output:\n",
        "\n",
        "array([[ 3],\n",
        "       [ 7],\n",
        "       [11],\n",
        "       [15]])"
      ]
    },
    {
      "cell_type": "code",
      "execution_count": 76,
      "metadata": {
        "colab": {
          "base_uri": "https://localhost:8080/"
        },
        "id": "W_Sy3iXsVhTI",
        "outputId": "8a21e148-6da7-4a88-dfe6-222e2ecc0013"
      },
      "outputs": [
        {
          "output_type": "execute_result",
          "data": {
            "text/plain": [
              "array([ 9, 10, 11, 12])"
            ]
          },
          "metadata": {},
          "execution_count": 76
        }
      ],
      "source": [
        "# WHAT IF WE ARE INTERESTED IN THE 3RD ROW? \n",
        "\n",
        "# YOUR CODE IS HERE \n",
        "\n",
        "b = mat[2]\n",
        "b"
      ]
    },
    {
      "cell_type": "raw",
      "metadata": {
        "id": "wkfwqlCTVhTI"
      },
      "source": [
        "Desired Output:\n",
        "\n",
        "array([ 9, 10, 11, 12])"
      ]
    },
    {
      "cell_type": "code",
      "execution_count": 77,
      "metadata": {
        "id": "OX4fqkipAd_N",
        "outputId": "87fefec1-855b-462d-8869-52f598d011d8",
        "scrolled": true,
        "colab": {
          "base_uri": "https://localhost:8080/"
        }
      },
      "outputs": [
        {
          "output_type": "stream",
          "name": "stdout",
          "text": [
            "9.0\n",
            "10.5\n"
          ]
        }
      ],
      "source": [
        "# LET US GET MEDIAN VALUE \n",
        "\n",
        "# YOUR CODE IS HERE \n",
        "\n",
        "print(np.median(a))\n",
        "print(np.median(b))"
      ]
    },
    {
      "cell_type": "raw",
      "metadata": {
        "id": "ppyW6W1pVhTJ"
      },
      "source": [
        "Desired Output:\n",
        "\n",
        "9.0\n",
        "10.5"
      ]
    },
    {
      "cell_type": "code",
      "execution_count": 78,
      "metadata": {
        "id": "oZpsC7rFAd_N",
        "outputId": "1f56cfad-3b9d-4da7-a113-53b2454925fb",
        "colab": {
          "base_uri": "https://localhost:8080/"
        }
      },
      "outputs": [
        {
          "output_type": "stream",
          "name": "stdout",
          "text": [
            "9.0\n",
            "10.5\n"
          ]
        }
      ],
      "source": [
        "# LET US GET MEAN VALUE \n",
        "\n",
        "# YOUR CODE IS HERE \n",
        "\n",
        "print(np.mean(a))\n",
        "print(np.mean(b))"
      ]
    },
    {
      "cell_type": "raw",
      "metadata": {
        "id": "VWi1tB5eVhTJ"
      },
      "source": [
        "Desired Output:\n",
        "\n",
        "9.0\n",
        "10.5"
      ]
    },
    {
      "cell_type": "code",
      "execution_count": 79,
      "metadata": {
        "id": "g8bveYJuAd_O",
        "outputId": "f2b884c0-651d-4a05-c8a7-2914c4761f78",
        "colab": {
          "base_uri": "https://localhost:8080/"
        }
      },
      "outputs": [
        {
          "output_type": "stream",
          "name": "stdout",
          "text": [
            "4.47213595499958\n",
            "1.118033988749895\n"
          ]
        }
      ],
      "source": [
        "# LET US GET STANDART DEVIATION (std) VALUE \n",
        "\n",
        "# YOUR CODE IS HERE \n",
        "\n",
        "print(np.std(a))\n",
        "print(np.std(b))"
      ]
    },
    {
      "cell_type": "raw",
      "metadata": {
        "id": "ET8SusSSVhTK"
      },
      "source": [
        "Desired Output:\n",
        "\n",
        "4.47213595499958\n",
        "1.118033988749895"
      ]
    },
    {
      "cell_type": "markdown",
      "metadata": {
        "collapsed": true,
        "id": "gZ5HUfC4Ad_O"
      },
      "source": [
        "## <p style=\"background-color:#9d4f8c; font-family:newtimeroman; color:#FFF9ED; font-size:175%; text-align:center; border-radius:10px 10px;\">Pandas Section</p>\n",
        "\n",
        "<a id=\"1\"></a>\n",
        "<a href=\"#toc\" class=\"btn btn-primary btn-sm\" role=\"button\" aria-pressed=\"true\" \n",
        "style=\"color:blue; background-color:#dfa8e4\" data-toggle=\"popover\">Content</a>"
      ]
    },
    {
      "cell_type": "markdown",
      "metadata": {
        "id": "Ydl5y7bDVhTK"
      },
      "source": [
        "### Import Pandas Library"
      ]
    },
    {
      "cell_type": "code",
      "execution_count": 80,
      "metadata": {
        "id": "lrbS4u52Ad_P"
      },
      "outputs": [],
      "source": [
        "import pandas as pd"
      ]
    },
    {
      "cell_type": "markdown",
      "metadata": {
        "id": "eacrpv_7Ad_P"
      },
      "source": [
        "### Read Salaries.csv and take a look at the first 5 rows, df info and df statistical measurements.*"
      ]
    },
    {
      "cell_type": "raw",
      "metadata": {
        "id": "dilvbctcVhTL"
      },
      "source": [
        "# !pip install py7zr\n",
        "\n",
        "import py7zr\n",
        "with py7zr.SevenZipFile('Salaries.7z', mode='r') as z:\n",
        "    z.extractall()"
      ]
    },
    {
      "cell_type": "code",
      "execution_count": 81,
      "metadata": {
        "id": "OP4b0LcTAd_P"
      },
      "outputs": [],
      "source": [
        "# LET US READ Salaries.csv \n",
        "\n",
        "# YOUR CODE IS HERE \n",
        "\n",
        "sal = pd.read_csv('Salaries.csv')"
      ]
    },
    {
      "cell_type": "code",
      "source": [
        "from google.colab import drive\n",
        "drive.mount('/content/drive')"
      ],
      "metadata": {
        "colab": {
          "base_uri": "https://localhost:8080/"
        },
        "id": "ObP9Z4rtVsKm",
        "outputId": "f8d5214c-75ec-4331-d68c-c6c8579736d4"
      },
      "execution_count": 82,
      "outputs": [
        {
          "output_type": "stream",
          "name": "stdout",
          "text": [
            "Drive already mounted at /content/drive; to attempt to forcibly remount, call drive.mount(\"/content/drive\", force_remount=True).\n"
          ]
        }
      ]
    },
    {
      "cell_type": "code",
      "execution_count": 83,
      "metadata": {
        "id": "qc6Tt4loAd_Q",
        "outputId": "89f593a9-2411-4ac2-b6b9-e2f61e6c6ca0",
        "colab": {
          "base_uri": "https://localhost:8080/",
          "height": 206
        }
      },
      "outputs": [
        {
          "output_type": "execute_result",
          "data": {
            "text/plain": [
              "   Id       EmployeeName                                        JobTitle  \\\n",
              "0   1     NATHANIEL FORD  GENERAL MANAGER-METROPOLITAN TRANSIT AUTHORITY   \n",
              "1   2       GARY JIMENEZ                 CAPTAIN III (POLICE DEPARTMENT)   \n",
              "2   3     ALBERT PARDINI                 CAPTAIN III (POLICE DEPARTMENT)   \n",
              "3   4  CHRISTOPHER CHONG            WIRE ROPE CABLE MAINTENANCE MECHANIC   \n",
              "4   5    PATRICK GARDNER    DEPUTY CHIEF OF DEPARTMENT,(FIRE DEPARTMENT)   \n",
              "\n",
              "     BasePay  OvertimePay   OtherPay  Benefits   TotalPay  TotalPayBenefits  \\\n",
              "0  167411.18         0.00  400184.25       NaN  567595.43         567595.43   \n",
              "1  155966.02    245131.88  137811.38       NaN  538909.28         538909.28   \n",
              "2  212739.13    106088.18   16452.60       NaN  335279.91         335279.91   \n",
              "3   77916.00     56120.71  198306.90       NaN  332343.61         332343.61   \n",
              "4  134401.60      9737.00  182234.59       NaN  326373.19         326373.19   \n",
              "\n",
              "   Year  Notes         Agency  Status  \n",
              "0  2011    NaN  San Francisco     NaN  \n",
              "1  2011    NaN  San Francisco     NaN  \n",
              "2  2011    NaN  San Francisco     NaN  \n",
              "3  2011    NaN  San Francisco     NaN  \n",
              "4  2011    NaN  San Francisco     NaN  "
            ],
            "text/html": [
              "\n",
              "  <div id=\"df-72a58b3a-6896-479a-9894-3ce347c17abb\">\n",
              "    <div class=\"colab-df-container\">\n",
              "      <div>\n",
              "<style scoped>\n",
              "    .dataframe tbody tr th:only-of-type {\n",
              "        vertical-align: middle;\n",
              "    }\n",
              "\n",
              "    .dataframe tbody tr th {\n",
              "        vertical-align: top;\n",
              "    }\n",
              "\n",
              "    .dataframe thead th {\n",
              "        text-align: right;\n",
              "    }\n",
              "</style>\n",
              "<table border=\"1\" class=\"dataframe\">\n",
              "  <thead>\n",
              "    <tr style=\"text-align: right;\">\n",
              "      <th></th>\n",
              "      <th>Id</th>\n",
              "      <th>EmployeeName</th>\n",
              "      <th>JobTitle</th>\n",
              "      <th>BasePay</th>\n",
              "      <th>OvertimePay</th>\n",
              "      <th>OtherPay</th>\n",
              "      <th>Benefits</th>\n",
              "      <th>TotalPay</th>\n",
              "      <th>TotalPayBenefits</th>\n",
              "      <th>Year</th>\n",
              "      <th>Notes</th>\n",
              "      <th>Agency</th>\n",
              "      <th>Status</th>\n",
              "    </tr>\n",
              "  </thead>\n",
              "  <tbody>\n",
              "    <tr>\n",
              "      <th>0</th>\n",
              "      <td>1</td>\n",
              "      <td>NATHANIEL FORD</td>\n",
              "      <td>GENERAL MANAGER-METROPOLITAN TRANSIT AUTHORITY</td>\n",
              "      <td>167411.18</td>\n",
              "      <td>0.00</td>\n",
              "      <td>400184.25</td>\n",
              "      <td>NaN</td>\n",
              "      <td>567595.43</td>\n",
              "      <td>567595.43</td>\n",
              "      <td>2011</td>\n",
              "      <td>NaN</td>\n",
              "      <td>San Francisco</td>\n",
              "      <td>NaN</td>\n",
              "    </tr>\n",
              "    <tr>\n",
              "      <th>1</th>\n",
              "      <td>2</td>\n",
              "      <td>GARY JIMENEZ</td>\n",
              "      <td>CAPTAIN III (POLICE DEPARTMENT)</td>\n",
              "      <td>155966.02</td>\n",
              "      <td>245131.88</td>\n",
              "      <td>137811.38</td>\n",
              "      <td>NaN</td>\n",
              "      <td>538909.28</td>\n",
              "      <td>538909.28</td>\n",
              "      <td>2011</td>\n",
              "      <td>NaN</td>\n",
              "      <td>San Francisco</td>\n",
              "      <td>NaN</td>\n",
              "    </tr>\n",
              "    <tr>\n",
              "      <th>2</th>\n",
              "      <td>3</td>\n",
              "      <td>ALBERT PARDINI</td>\n",
              "      <td>CAPTAIN III (POLICE DEPARTMENT)</td>\n",
              "      <td>212739.13</td>\n",
              "      <td>106088.18</td>\n",
              "      <td>16452.60</td>\n",
              "      <td>NaN</td>\n",
              "      <td>335279.91</td>\n",
              "      <td>335279.91</td>\n",
              "      <td>2011</td>\n",
              "      <td>NaN</td>\n",
              "      <td>San Francisco</td>\n",
              "      <td>NaN</td>\n",
              "    </tr>\n",
              "    <tr>\n",
              "      <th>3</th>\n",
              "      <td>4</td>\n",
              "      <td>CHRISTOPHER CHONG</td>\n",
              "      <td>WIRE ROPE CABLE MAINTENANCE MECHANIC</td>\n",
              "      <td>77916.00</td>\n",
              "      <td>56120.71</td>\n",
              "      <td>198306.90</td>\n",
              "      <td>NaN</td>\n",
              "      <td>332343.61</td>\n",
              "      <td>332343.61</td>\n",
              "      <td>2011</td>\n",
              "      <td>NaN</td>\n",
              "      <td>San Francisco</td>\n",
              "      <td>NaN</td>\n",
              "    </tr>\n",
              "    <tr>\n",
              "      <th>4</th>\n",
              "      <td>5</td>\n",
              "      <td>PATRICK GARDNER</td>\n",
              "      <td>DEPUTY CHIEF OF DEPARTMENT,(FIRE DEPARTMENT)</td>\n",
              "      <td>134401.60</td>\n",
              "      <td>9737.00</td>\n",
              "      <td>182234.59</td>\n",
              "      <td>NaN</td>\n",
              "      <td>326373.19</td>\n",
              "      <td>326373.19</td>\n",
              "      <td>2011</td>\n",
              "      <td>NaN</td>\n",
              "      <td>San Francisco</td>\n",
              "      <td>NaN</td>\n",
              "    </tr>\n",
              "  </tbody>\n",
              "</table>\n",
              "</div>\n",
              "      <button class=\"colab-df-convert\" onclick=\"convertToInteractive('df-72a58b3a-6896-479a-9894-3ce347c17abb')\"\n",
              "              title=\"Convert this dataframe to an interactive table.\"\n",
              "              style=\"display:none;\">\n",
              "        \n",
              "  <svg xmlns=\"http://www.w3.org/2000/svg\" height=\"24px\"viewBox=\"0 0 24 24\"\n",
              "       width=\"24px\">\n",
              "    <path d=\"M0 0h24v24H0V0z\" fill=\"none\"/>\n",
              "    <path d=\"M18.56 5.44l.94 2.06.94-2.06 2.06-.94-2.06-.94-.94-2.06-.94 2.06-2.06.94zm-11 1L8.5 8.5l.94-2.06 2.06-.94-2.06-.94L8.5 2.5l-.94 2.06-2.06.94zm10 10l.94 2.06.94-2.06 2.06-.94-2.06-.94-.94-2.06-.94 2.06-2.06.94z\"/><path d=\"M17.41 7.96l-1.37-1.37c-.4-.4-.92-.59-1.43-.59-.52 0-1.04.2-1.43.59L10.3 9.45l-7.72 7.72c-.78.78-.78 2.05 0 2.83L4 21.41c.39.39.9.59 1.41.59.51 0 1.02-.2 1.41-.59l7.78-7.78 2.81-2.81c.8-.78.8-2.07 0-2.86zM5.41 20L4 18.59l7.72-7.72 1.47 1.35L5.41 20z\"/>\n",
              "  </svg>\n",
              "      </button>\n",
              "      \n",
              "  <style>\n",
              "    .colab-df-container {\n",
              "      display:flex;\n",
              "      flex-wrap:wrap;\n",
              "      gap: 12px;\n",
              "    }\n",
              "\n",
              "    .colab-df-convert {\n",
              "      background-color: #E8F0FE;\n",
              "      border: none;\n",
              "      border-radius: 50%;\n",
              "      cursor: pointer;\n",
              "      display: none;\n",
              "      fill: #1967D2;\n",
              "      height: 32px;\n",
              "      padding: 0 0 0 0;\n",
              "      width: 32px;\n",
              "    }\n",
              "\n",
              "    .colab-df-convert:hover {\n",
              "      background-color: #E2EBFA;\n",
              "      box-shadow: 0px 1px 2px rgba(60, 64, 67, 0.3), 0px 1px 3px 1px rgba(60, 64, 67, 0.15);\n",
              "      fill: #174EA6;\n",
              "    }\n",
              "\n",
              "    [theme=dark] .colab-df-convert {\n",
              "      background-color: #3B4455;\n",
              "      fill: #D2E3FC;\n",
              "    }\n",
              "\n",
              "    [theme=dark] .colab-df-convert:hover {\n",
              "      background-color: #434B5C;\n",
              "      box-shadow: 0px 1px 3px 1px rgba(0, 0, 0, 0.15);\n",
              "      filter: drop-shadow(0px 1px 2px rgba(0, 0, 0, 0.3));\n",
              "      fill: #FFFFFF;\n",
              "    }\n",
              "  </style>\n",
              "\n",
              "      <script>\n",
              "        const buttonEl =\n",
              "          document.querySelector('#df-72a58b3a-6896-479a-9894-3ce347c17abb button.colab-df-convert');\n",
              "        buttonEl.style.display =\n",
              "          google.colab.kernel.accessAllowed ? 'block' : 'none';\n",
              "\n",
              "        async function convertToInteractive(key) {\n",
              "          const element = document.querySelector('#df-72a58b3a-6896-479a-9894-3ce347c17abb');\n",
              "          const dataTable =\n",
              "            await google.colab.kernel.invokeFunction('convertToInteractive',\n",
              "                                                     [key], {});\n",
              "          if (!dataTable) return;\n",
              "\n",
              "          const docLinkHtml = 'Like what you see? Visit the ' +\n",
              "            '<a target=\"_blank\" href=https://colab.research.google.com/notebooks/data_table.ipynb>data table notebook</a>'\n",
              "            + ' to learn more about interactive tables.';\n",
              "          element.innerHTML = '';\n",
              "          dataTable['output_type'] = 'display_data';\n",
              "          await google.colab.output.renderOutput(dataTable, element);\n",
              "          const docLink = document.createElement('div');\n",
              "          docLink.innerHTML = docLinkHtml;\n",
              "          element.appendChild(docLink);\n",
              "        }\n",
              "      </script>\n",
              "    </div>\n",
              "  </div>\n",
              "  "
            ]
          },
          "metadata": {},
          "execution_count": 83
        }
      ],
      "source": [
        "# LET US LOOK AT THE FIRST 5 ROWS \n",
        "\n",
        "# YOUR CODE IS HERE \n",
        "\n",
        "sal.head()"
      ]
    },
    {
      "cell_type": "markdown",
      "metadata": {
        "id": "El5IxACIVhTL"
      },
      "source": [
        "Desired Output:\n",
        "\n",
        "![image.png](https://i.ibb.co/6BTmGX8/assignment1a.png)"
      ]
    },
    {
      "cell_type": "code",
      "execution_count": 84,
      "metadata": {
        "id": "YwUmq9IAAd_Q",
        "outputId": "49c9c95c-b2b2-4597-ac1d-429a60001186",
        "colab": {
          "base_uri": "https://localhost:8080/",
          "height": 81
        }
      },
      "outputs": [
        {
          "output_type": "execute_result",
          "data": {
            "text/plain": [
              "          Id   EmployeeName      JobTitle   BasePay  OvertimePay  OtherPay  \\\n",
              "18038  18039  MANUEL TORRES  CEMENT MASON  67683.47       621.89       0.0   \n",
              "\n",
              "       Benefits  TotalPay  TotalPayBenefits  Year  Notes         Agency  \\\n",
              "18038       NaN  68305.36          68305.36  2011    NaN  San Francisco   \n",
              "\n",
              "       Status  \n",
              "18038     NaN  "
            ],
            "text/html": [
              "\n",
              "  <div id=\"df-5a95acc2-a6f5-466e-9933-325cf11b0f8b\">\n",
              "    <div class=\"colab-df-container\">\n",
              "      <div>\n",
              "<style scoped>\n",
              "    .dataframe tbody tr th:only-of-type {\n",
              "        vertical-align: middle;\n",
              "    }\n",
              "\n",
              "    .dataframe tbody tr th {\n",
              "        vertical-align: top;\n",
              "    }\n",
              "\n",
              "    .dataframe thead th {\n",
              "        text-align: right;\n",
              "    }\n",
              "</style>\n",
              "<table border=\"1\" class=\"dataframe\">\n",
              "  <thead>\n",
              "    <tr style=\"text-align: right;\">\n",
              "      <th></th>\n",
              "      <th>Id</th>\n",
              "      <th>EmployeeName</th>\n",
              "      <th>JobTitle</th>\n",
              "      <th>BasePay</th>\n",
              "      <th>OvertimePay</th>\n",
              "      <th>OtherPay</th>\n",
              "      <th>Benefits</th>\n",
              "      <th>TotalPay</th>\n",
              "      <th>TotalPayBenefits</th>\n",
              "      <th>Year</th>\n",
              "      <th>Notes</th>\n",
              "      <th>Agency</th>\n",
              "      <th>Status</th>\n",
              "    </tr>\n",
              "  </thead>\n",
              "  <tbody>\n",
              "    <tr>\n",
              "      <th>18038</th>\n",
              "      <td>18039</td>\n",
              "      <td>MANUEL TORRES</td>\n",
              "      <td>CEMENT MASON</td>\n",
              "      <td>67683.47</td>\n",
              "      <td>621.89</td>\n",
              "      <td>0.0</td>\n",
              "      <td>NaN</td>\n",
              "      <td>68305.36</td>\n",
              "      <td>68305.36</td>\n",
              "      <td>2011</td>\n",
              "      <td>NaN</td>\n",
              "      <td>San Francisco</td>\n",
              "      <td>NaN</td>\n",
              "    </tr>\n",
              "  </tbody>\n",
              "</table>\n",
              "</div>\n",
              "      <button class=\"colab-df-convert\" onclick=\"convertToInteractive('df-5a95acc2-a6f5-466e-9933-325cf11b0f8b')\"\n",
              "              title=\"Convert this dataframe to an interactive table.\"\n",
              "              style=\"display:none;\">\n",
              "        \n",
              "  <svg xmlns=\"http://www.w3.org/2000/svg\" height=\"24px\"viewBox=\"0 0 24 24\"\n",
              "       width=\"24px\">\n",
              "    <path d=\"M0 0h24v24H0V0z\" fill=\"none\"/>\n",
              "    <path d=\"M18.56 5.44l.94 2.06.94-2.06 2.06-.94-2.06-.94-.94-2.06-.94 2.06-2.06.94zm-11 1L8.5 8.5l.94-2.06 2.06-.94-2.06-.94L8.5 2.5l-.94 2.06-2.06.94zm10 10l.94 2.06.94-2.06 2.06-.94-2.06-.94-.94-2.06-.94 2.06-2.06.94z\"/><path d=\"M17.41 7.96l-1.37-1.37c-.4-.4-.92-.59-1.43-.59-.52 0-1.04.2-1.43.59L10.3 9.45l-7.72 7.72c-.78.78-.78 2.05 0 2.83L4 21.41c.39.39.9.59 1.41.59.51 0 1.02-.2 1.41-.59l7.78-7.78 2.81-2.81c.8-.78.8-2.07 0-2.86zM5.41 20L4 18.59l7.72-7.72 1.47 1.35L5.41 20z\"/>\n",
              "  </svg>\n",
              "      </button>\n",
              "      \n",
              "  <style>\n",
              "    .colab-df-container {\n",
              "      display:flex;\n",
              "      flex-wrap:wrap;\n",
              "      gap: 12px;\n",
              "    }\n",
              "\n",
              "    .colab-df-convert {\n",
              "      background-color: #E8F0FE;\n",
              "      border: none;\n",
              "      border-radius: 50%;\n",
              "      cursor: pointer;\n",
              "      display: none;\n",
              "      fill: #1967D2;\n",
              "      height: 32px;\n",
              "      padding: 0 0 0 0;\n",
              "      width: 32px;\n",
              "    }\n",
              "\n",
              "    .colab-df-convert:hover {\n",
              "      background-color: #E2EBFA;\n",
              "      box-shadow: 0px 1px 2px rgba(60, 64, 67, 0.3), 0px 1px 3px 1px rgba(60, 64, 67, 0.15);\n",
              "      fill: #174EA6;\n",
              "    }\n",
              "\n",
              "    [theme=dark] .colab-df-convert {\n",
              "      background-color: #3B4455;\n",
              "      fill: #D2E3FC;\n",
              "    }\n",
              "\n",
              "    [theme=dark] .colab-df-convert:hover {\n",
              "      background-color: #434B5C;\n",
              "      box-shadow: 0px 1px 3px 1px rgba(0, 0, 0, 0.15);\n",
              "      filter: drop-shadow(0px 1px 2px rgba(0, 0, 0, 0.3));\n",
              "      fill: #FFFFFF;\n",
              "    }\n",
              "  </style>\n",
              "\n",
              "      <script>\n",
              "        const buttonEl =\n",
              "          document.querySelector('#df-5a95acc2-a6f5-466e-9933-325cf11b0f8b button.colab-df-convert');\n",
              "        buttonEl.style.display =\n",
              "          google.colab.kernel.accessAllowed ? 'block' : 'none';\n",
              "\n",
              "        async function convertToInteractive(key) {\n",
              "          const element = document.querySelector('#df-5a95acc2-a6f5-466e-9933-325cf11b0f8b');\n",
              "          const dataTable =\n",
              "            await google.colab.kernel.invokeFunction('convertToInteractive',\n",
              "                                                     [key], {});\n",
              "          if (!dataTable) return;\n",
              "\n",
              "          const docLinkHtml = 'Like what you see? Visit the ' +\n",
              "            '<a target=\"_blank\" href=https://colab.research.google.com/notebooks/data_table.ipynb>data table notebook</a>'\n",
              "            + ' to learn more about interactive tables.';\n",
              "          element.innerHTML = '';\n",
              "          dataTable['output_type'] = 'display_data';\n",
              "          await google.colab.output.renderOutput(dataTable, element);\n",
              "          const docLink = document.createElement('div');\n",
              "          docLink.innerHTML = docLinkHtml;\n",
              "          element.appendChild(docLink);\n",
              "        }\n",
              "      </script>\n",
              "    </div>\n",
              "  </div>\n",
              "  "
            ]
          },
          "metadata": {},
          "execution_count": 84
        }
      ],
      "source": [
        "# LET US GET A SAMPLE \n",
        "\n",
        "# YOUR CODE IS HERE \n",
        "\n",
        "sal.sample()"
      ]
    },
    {
      "cell_type": "markdown",
      "metadata": {
        "id": "wIvxVBRUVhTM"
      },
      "source": [
        "Desired Output (WATCH OUT! Your output may NOT be the same as the one):\n",
        "\n",
        "![image.png](https://i.ibb.co/mcsCxxC/assignment1b.png)"
      ]
    },
    {
      "cell_type": "code",
      "execution_count": 85,
      "metadata": {
        "id": "WuXy195gAd_Q",
        "outputId": "cf481e92-b304-463e-a6f9-1482a4b33b40",
        "colab": {
          "base_uri": "https://localhost:8080/"
        }
      },
      "outputs": [
        {
          "output_type": "stream",
          "name": "stdout",
          "text": [
            "<class 'pandas.core.frame.DataFrame'>\n",
            "RangeIndex: 148654 entries, 0 to 148653\n",
            "Data columns (total 13 columns):\n",
            " #   Column            Non-Null Count   Dtype  \n",
            "---  ------            --------------   -----  \n",
            " 0   Id                148654 non-null  int64  \n",
            " 1   EmployeeName      148654 non-null  object \n",
            " 2   JobTitle          148654 non-null  object \n",
            " 3   BasePay           148045 non-null  float64\n",
            " 4   OvertimePay       148650 non-null  float64\n",
            " 5   OtherPay          148650 non-null  float64\n",
            " 6   Benefits          112491 non-null  float64\n",
            " 7   TotalPay          148654 non-null  float64\n",
            " 8   TotalPayBenefits  148654 non-null  float64\n",
            " 9   Year              148654 non-null  int64  \n",
            " 10  Notes             0 non-null       float64\n",
            " 11  Agency            148654 non-null  object \n",
            " 12  Status            0 non-null       float64\n",
            "dtypes: float64(8), int64(2), object(3)\n",
            "memory usage: 14.7+ MB\n"
          ]
        }
      ],
      "source": [
        "# YOUR CODE IS HERE \n",
        "\n",
        "sal.info()"
      ]
    },
    {
      "cell_type": "raw",
      "metadata": {
        "id": "dc4Sy6bGVhTM"
      },
      "source": [
        "Desired Output:\n",
        "\n",
        "<class 'pandas.core.frame.DataFrame'>\n",
        "RangeIndex: 148654 entries, 0 to 148653\n",
        "Data columns (total 13 columns):\n",
        " #   Column            Non-Null Count   Dtype  \n",
        "---  ------            --------------   -----  \n",
        " 0   Id                148654 non-null  int64  \n",
        " 1   EmployeeName      148654 non-null  object \n",
        " 2   JobTitle          148654 non-null  object \n",
        " 3   BasePay           148045 non-null  float64\n",
        " 4   OvertimePay       148650 non-null  float64\n",
        " 5   OtherPay          148650 non-null  float64\n",
        " 6   Benefits          112491 non-null  float64\n",
        " 7   TotalPay          148654 non-null  float64\n",
        " 8   TotalPayBenefits  148654 non-null  float64\n",
        " 9   Year              148654 non-null  int64  \n",
        " 10  Notes             0 non-null       float64\n",
        " 11  Agency            148654 non-null  object \n",
        " 12  Status            0 non-null       float64\n",
        "dtypes: float64(8), int64(2), object(3)\n",
        "memory usage: 14.7+ MB"
      ]
    },
    {
      "cell_type": "code",
      "execution_count": 86,
      "metadata": {
        "id": "02GV54nZAd_R",
        "outputId": "eb4a8174-42e4-407f-a74a-7029cd2965e8",
        "scrolled": true,
        "colab": {
          "base_uri": "https://localhost:8080/",
          "height": 300
        }
      },
      "outputs": [
        {
          "output_type": "execute_result",
          "data": {
            "text/plain": [
              "                  Id        BasePay    OvertimePay       OtherPay  \\\n",
              "count  148654.000000  148045.000000  148650.000000  148650.000000   \n",
              "mean    74327.500000   66325.448841    5066.059886    3648.767297   \n",
              "std     42912.857795   42764.635495   11454.380559    8056.601866   \n",
              "min         1.000000    -166.010000      -0.010000   -7058.590000   \n",
              "25%     37164.250000   33588.200000       0.000000       0.000000   \n",
              "50%     74327.500000   65007.450000       0.000000     811.270000   \n",
              "75%    111490.750000   94691.050000    4658.175000    4236.065000   \n",
              "max    148654.000000  319275.010000  245131.880000  400184.250000   \n",
              "\n",
              "            Benefits       TotalPay  TotalPayBenefits           Year  Notes  \\\n",
              "count  112491.000000  148654.000000     148654.000000  148654.000000    0.0   \n",
              "mean    25007.893151   74768.321972      93692.554811    2012.522643    NaN   \n",
              "std     15402.215858   50517.005274      62793.533483       1.117538    NaN   \n",
              "min       -33.890000    -618.130000       -618.130000    2011.000000    NaN   \n",
              "25%     11535.395000   36168.995000      44065.650000    2012.000000    NaN   \n",
              "50%     28628.620000   71426.610000      92404.090000    2013.000000    NaN   \n",
              "75%     35566.855000  105839.135000     132876.450000    2014.000000    NaN   \n",
              "max     96570.660000  567595.430000     567595.430000    2014.000000    NaN   \n",
              "\n",
              "       Status  \n",
              "count     0.0  \n",
              "mean      NaN  \n",
              "std       NaN  \n",
              "min       NaN  \n",
              "25%       NaN  \n",
              "50%       NaN  \n",
              "75%       NaN  \n",
              "max       NaN  "
            ],
            "text/html": [
              "\n",
              "  <div id=\"df-5eb8ca58-9730-4630-b3d9-003b105162a8\">\n",
              "    <div class=\"colab-df-container\">\n",
              "      <div>\n",
              "<style scoped>\n",
              "    .dataframe tbody tr th:only-of-type {\n",
              "        vertical-align: middle;\n",
              "    }\n",
              "\n",
              "    .dataframe tbody tr th {\n",
              "        vertical-align: top;\n",
              "    }\n",
              "\n",
              "    .dataframe thead th {\n",
              "        text-align: right;\n",
              "    }\n",
              "</style>\n",
              "<table border=\"1\" class=\"dataframe\">\n",
              "  <thead>\n",
              "    <tr style=\"text-align: right;\">\n",
              "      <th></th>\n",
              "      <th>Id</th>\n",
              "      <th>BasePay</th>\n",
              "      <th>OvertimePay</th>\n",
              "      <th>OtherPay</th>\n",
              "      <th>Benefits</th>\n",
              "      <th>TotalPay</th>\n",
              "      <th>TotalPayBenefits</th>\n",
              "      <th>Year</th>\n",
              "      <th>Notes</th>\n",
              "      <th>Status</th>\n",
              "    </tr>\n",
              "  </thead>\n",
              "  <tbody>\n",
              "    <tr>\n",
              "      <th>count</th>\n",
              "      <td>148654.000000</td>\n",
              "      <td>148045.000000</td>\n",
              "      <td>148650.000000</td>\n",
              "      <td>148650.000000</td>\n",
              "      <td>112491.000000</td>\n",
              "      <td>148654.000000</td>\n",
              "      <td>148654.000000</td>\n",
              "      <td>148654.000000</td>\n",
              "      <td>0.0</td>\n",
              "      <td>0.0</td>\n",
              "    </tr>\n",
              "    <tr>\n",
              "      <th>mean</th>\n",
              "      <td>74327.500000</td>\n",
              "      <td>66325.448841</td>\n",
              "      <td>5066.059886</td>\n",
              "      <td>3648.767297</td>\n",
              "      <td>25007.893151</td>\n",
              "      <td>74768.321972</td>\n",
              "      <td>93692.554811</td>\n",
              "      <td>2012.522643</td>\n",
              "      <td>NaN</td>\n",
              "      <td>NaN</td>\n",
              "    </tr>\n",
              "    <tr>\n",
              "      <th>std</th>\n",
              "      <td>42912.857795</td>\n",
              "      <td>42764.635495</td>\n",
              "      <td>11454.380559</td>\n",
              "      <td>8056.601866</td>\n",
              "      <td>15402.215858</td>\n",
              "      <td>50517.005274</td>\n",
              "      <td>62793.533483</td>\n",
              "      <td>1.117538</td>\n",
              "      <td>NaN</td>\n",
              "      <td>NaN</td>\n",
              "    </tr>\n",
              "    <tr>\n",
              "      <th>min</th>\n",
              "      <td>1.000000</td>\n",
              "      <td>-166.010000</td>\n",
              "      <td>-0.010000</td>\n",
              "      <td>-7058.590000</td>\n",
              "      <td>-33.890000</td>\n",
              "      <td>-618.130000</td>\n",
              "      <td>-618.130000</td>\n",
              "      <td>2011.000000</td>\n",
              "      <td>NaN</td>\n",
              "      <td>NaN</td>\n",
              "    </tr>\n",
              "    <tr>\n",
              "      <th>25%</th>\n",
              "      <td>37164.250000</td>\n",
              "      <td>33588.200000</td>\n",
              "      <td>0.000000</td>\n",
              "      <td>0.000000</td>\n",
              "      <td>11535.395000</td>\n",
              "      <td>36168.995000</td>\n",
              "      <td>44065.650000</td>\n",
              "      <td>2012.000000</td>\n",
              "      <td>NaN</td>\n",
              "      <td>NaN</td>\n",
              "    </tr>\n",
              "    <tr>\n",
              "      <th>50%</th>\n",
              "      <td>74327.500000</td>\n",
              "      <td>65007.450000</td>\n",
              "      <td>0.000000</td>\n",
              "      <td>811.270000</td>\n",
              "      <td>28628.620000</td>\n",
              "      <td>71426.610000</td>\n",
              "      <td>92404.090000</td>\n",
              "      <td>2013.000000</td>\n",
              "      <td>NaN</td>\n",
              "      <td>NaN</td>\n",
              "    </tr>\n",
              "    <tr>\n",
              "      <th>75%</th>\n",
              "      <td>111490.750000</td>\n",
              "      <td>94691.050000</td>\n",
              "      <td>4658.175000</td>\n",
              "      <td>4236.065000</td>\n",
              "      <td>35566.855000</td>\n",
              "      <td>105839.135000</td>\n",
              "      <td>132876.450000</td>\n",
              "      <td>2014.000000</td>\n",
              "      <td>NaN</td>\n",
              "      <td>NaN</td>\n",
              "    </tr>\n",
              "    <tr>\n",
              "      <th>max</th>\n",
              "      <td>148654.000000</td>\n",
              "      <td>319275.010000</td>\n",
              "      <td>245131.880000</td>\n",
              "      <td>400184.250000</td>\n",
              "      <td>96570.660000</td>\n",
              "      <td>567595.430000</td>\n",
              "      <td>567595.430000</td>\n",
              "      <td>2014.000000</td>\n",
              "      <td>NaN</td>\n",
              "      <td>NaN</td>\n",
              "    </tr>\n",
              "  </tbody>\n",
              "</table>\n",
              "</div>\n",
              "      <button class=\"colab-df-convert\" onclick=\"convertToInteractive('df-5eb8ca58-9730-4630-b3d9-003b105162a8')\"\n",
              "              title=\"Convert this dataframe to an interactive table.\"\n",
              "              style=\"display:none;\">\n",
              "        \n",
              "  <svg xmlns=\"http://www.w3.org/2000/svg\" height=\"24px\"viewBox=\"0 0 24 24\"\n",
              "       width=\"24px\">\n",
              "    <path d=\"M0 0h24v24H0V0z\" fill=\"none\"/>\n",
              "    <path d=\"M18.56 5.44l.94 2.06.94-2.06 2.06-.94-2.06-.94-.94-2.06-.94 2.06-2.06.94zm-11 1L8.5 8.5l.94-2.06 2.06-.94-2.06-.94L8.5 2.5l-.94 2.06-2.06.94zm10 10l.94 2.06.94-2.06 2.06-.94-2.06-.94-.94-2.06-.94 2.06-2.06.94z\"/><path d=\"M17.41 7.96l-1.37-1.37c-.4-.4-.92-.59-1.43-.59-.52 0-1.04.2-1.43.59L10.3 9.45l-7.72 7.72c-.78.78-.78 2.05 0 2.83L4 21.41c.39.39.9.59 1.41.59.51 0 1.02-.2 1.41-.59l7.78-7.78 2.81-2.81c.8-.78.8-2.07 0-2.86zM5.41 20L4 18.59l7.72-7.72 1.47 1.35L5.41 20z\"/>\n",
              "  </svg>\n",
              "      </button>\n",
              "      \n",
              "  <style>\n",
              "    .colab-df-container {\n",
              "      display:flex;\n",
              "      flex-wrap:wrap;\n",
              "      gap: 12px;\n",
              "    }\n",
              "\n",
              "    .colab-df-convert {\n",
              "      background-color: #E8F0FE;\n",
              "      border: none;\n",
              "      border-radius: 50%;\n",
              "      cursor: pointer;\n",
              "      display: none;\n",
              "      fill: #1967D2;\n",
              "      height: 32px;\n",
              "      padding: 0 0 0 0;\n",
              "      width: 32px;\n",
              "    }\n",
              "\n",
              "    .colab-df-convert:hover {\n",
              "      background-color: #E2EBFA;\n",
              "      box-shadow: 0px 1px 2px rgba(60, 64, 67, 0.3), 0px 1px 3px 1px rgba(60, 64, 67, 0.15);\n",
              "      fill: #174EA6;\n",
              "    }\n",
              "\n",
              "    [theme=dark] .colab-df-convert {\n",
              "      background-color: #3B4455;\n",
              "      fill: #D2E3FC;\n",
              "    }\n",
              "\n",
              "    [theme=dark] .colab-df-convert:hover {\n",
              "      background-color: #434B5C;\n",
              "      box-shadow: 0px 1px 3px 1px rgba(0, 0, 0, 0.15);\n",
              "      filter: drop-shadow(0px 1px 2px rgba(0, 0, 0, 0.3));\n",
              "      fill: #FFFFFF;\n",
              "    }\n",
              "  </style>\n",
              "\n",
              "      <script>\n",
              "        const buttonEl =\n",
              "          document.querySelector('#df-5eb8ca58-9730-4630-b3d9-003b105162a8 button.colab-df-convert');\n",
              "        buttonEl.style.display =\n",
              "          google.colab.kernel.accessAllowed ? 'block' : 'none';\n",
              "\n",
              "        async function convertToInteractive(key) {\n",
              "          const element = document.querySelector('#df-5eb8ca58-9730-4630-b3d9-003b105162a8');\n",
              "          const dataTable =\n",
              "            await google.colab.kernel.invokeFunction('convertToInteractive',\n",
              "                                                     [key], {});\n",
              "          if (!dataTable) return;\n",
              "\n",
              "          const docLinkHtml = 'Like what you see? Visit the ' +\n",
              "            '<a target=\"_blank\" href=https://colab.research.google.com/notebooks/data_table.ipynb>data table notebook</a>'\n",
              "            + ' to learn more about interactive tables.';\n",
              "          element.innerHTML = '';\n",
              "          dataTable['output_type'] = 'display_data';\n",
              "          await google.colab.output.renderOutput(dataTable, element);\n",
              "          const docLink = document.createElement('div');\n",
              "          docLink.innerHTML = docLinkHtml;\n",
              "          element.appendChild(docLink);\n",
              "        }\n",
              "      </script>\n",
              "    </div>\n",
              "  </div>\n",
              "  "
            ]
          },
          "metadata": {},
          "execution_count": 86
        }
      ],
      "source": [
        "# LET US GET SOME DESCRIPTIVE MEASUREMENTS  \n",
        "\n",
        "# YOUR CODE IS HERE \n",
        "\n",
        "sal.describe()"
      ]
    },
    {
      "cell_type": "markdown",
      "metadata": {
        "id": "W0a617LfVhTN"
      },
      "source": [
        "Desired Output:\n",
        "\n",
        "![image.png](https://i.ibb.co/ftMP67H/assignmnet1c.png)"
      ]
    },
    {
      "cell_type": "markdown",
      "metadata": {
        "id": "vIWqIPCdAd_R"
      },
      "source": [
        "### How many different year values are there?"
      ]
    },
    {
      "cell_type": "code",
      "execution_count": 87,
      "metadata": {
        "colab": {
          "base_uri": "https://localhost:8080/"
        },
        "id": "kQmYKrhyVhTN",
        "outputId": "615574d3-6358-4049-8301-6137b6c213a7"
      },
      "outputs": [
        {
          "output_type": "execute_result",
          "data": {
            "text/plain": [
              "2014    38123\n",
              "2013    37606\n",
              "2012    36766\n",
              "2011    36159\n",
              "Name: Year, dtype: int64"
            ]
          },
          "metadata": {},
          "execution_count": 87
        }
      ],
      "source": [
        "# YOUR CODE IS HERE \n",
        "\n",
        "sal.Year.value_counts(dropna=False)"
      ]
    },
    {
      "cell_type": "raw",
      "metadata": {
        "id": "ICewZEdmVhTO"
      },
      "source": [
        "Desired Output:\n",
        "\n",
        "2014    38123\n",
        "2013    37606\n",
        "2012    36766\n",
        "2011    36159\n",
        "Name: Year, dtype: int64"
      ]
    },
    {
      "cell_type": "code",
      "execution_count": 88,
      "metadata": {
        "id": "_QXgY1bWAd_S",
        "outputId": "a14e74b0-40c5-4d19-84c4-9acb9badd237",
        "colab": {
          "base_uri": "https://localhost:8080/"
        }
      },
      "outputs": [
        {
          "output_type": "execute_result",
          "data": {
            "text/plain": [
              "4"
            ]
          },
          "metadata": {},
          "execution_count": 88
        }
      ],
      "source": [
        "# LET US FIND THE NUMBER OF UNIQUE VALUES IN THE COLUMN OF \"Year\"\n",
        "\n",
        "# YOUR CODE IS HERE \n",
        "\n",
        "sal.Year.value_counts(dropna=False).nunique()"
      ]
    },
    {
      "cell_type": "raw",
      "metadata": {
        "id": "XDExaLJpVhTO"
      },
      "source": [
        "Desired Output:\n",
        "\n",
        "4"
      ]
    },
    {
      "cell_type": "code",
      "execution_count": 89,
      "metadata": {
        "colab": {
          "base_uri": "https://localhost:8080/"
        },
        "id": "ouH4F9kYVhTO",
        "outputId": "2ee989b2-e09c-4edb-d070-75eec7e44c6e"
      },
      "outputs": [
        {
          "output_type": "execute_result",
          "data": {
            "text/plain": [
              "array([2011, 2012, 2013, 2014])"
            ]
          },
          "metadata": {},
          "execution_count": 89
        }
      ],
      "source": [
        "# LET US FIND THE UNIQUE VALUES IN THE COLUMN OF \"Year\"\n",
        "\n",
        "# YOUR CODE IS HERE \n",
        "\n",
        "sal.Year.unique()"
      ]
    },
    {
      "cell_type": "raw",
      "metadata": {
        "id": "JEKfAYNFVhTO"
      },
      "source": [
        "Desired Output:\n",
        "\n",
        "array([2011, 2012, 2013, 2014], dtype=int64)"
      ]
    },
    {
      "cell_type": "markdown",
      "metadata": {
        "id": "3KfOM05LAd_S"
      },
      "source": [
        "### Print out max and avg values in the column of \"Totalpay\"."
      ]
    },
    {
      "cell_type": "code",
      "execution_count": 90,
      "metadata": {
        "id": "gZM_k1oGAd_S",
        "outputId": "eb0eed2c-398c-46c8-ee74-42260d644888",
        "colab": {
          "base_uri": "https://localhost:8080/"
        }
      },
      "outputs": [
        {
          "output_type": "execute_result",
          "data": {
            "text/plain": [
              "567595.43"
            ]
          },
          "metadata": {},
          "execution_count": 90
        }
      ],
      "source": [
        "# LET US FIND THE MAXIMUM TOTALPAY\n",
        "\n",
        "# YOUR CODE IS HERE \n",
        "\n",
        "sal.TotalPay.max()"
      ]
    },
    {
      "cell_type": "raw",
      "metadata": {
        "id": "dsUXBmDIVhTP"
      },
      "source": [
        "Desired Output:\n",
        "\n",
        "567595.43"
      ]
    },
    {
      "cell_type": "code",
      "execution_count": 91,
      "metadata": {
        "id": "5QVwTgbKAd_S",
        "outputId": "8fca41f7-dca0-40a1-a6fa-474ee2ffae93",
        "colab": {
          "base_uri": "https://localhost:8080/"
        }
      },
      "outputs": [
        {
          "output_type": "execute_result",
          "data": {
            "text/plain": [
              "74768.321971703"
            ]
          },
          "metadata": {},
          "execution_count": 91
        }
      ],
      "source": [
        "# LET US FIND THE AVERAGE TOTALPAY\n",
        "\n",
        "# YOUR CODE IS HERE \n",
        "\n",
        "sal.TotalPay.mean()"
      ]
    },
    {
      "cell_type": "raw",
      "metadata": {
        "id": "6f033hRtVhTP"
      },
      "source": [
        "Desired Output:\n",
        "\n",
        "74768.321971703"
      ]
    },
    {
      "cell_type": "markdown",
      "metadata": {
        "id": "PBH4LugjAd_T"
      },
      "source": [
        "### How many records in the TotalPay column are there bigger than avg TotalPay?"
      ]
    },
    {
      "cell_type": "code",
      "execution_count": 92,
      "metadata": {
        "colab": {
          "base_uri": "https://localhost:8080/",
          "height": 641
        },
        "id": "_bIM9i3nVhTQ",
        "outputId": "bc6b0af5-421c-4657-d0f0-8db159377d79"
      },
      "outputs": [
        {
          "output_type": "execute_result",
          "data": {
            "text/plain": [
              "            Id       EmployeeName  \\\n",
              "0            1     NATHANIEL FORD   \n",
              "1            2       GARY JIMENEZ   \n",
              "2            3     ALBERT PARDINI   \n",
              "3            4  CHRISTOPHER CHONG   \n",
              "4            5    PATRICK GARDNER   \n",
              "...        ...                ...   \n",
              "135701  135702    Christina S Jee   \n",
              "135778  135779  Mary Ann T Abille   \n",
              "135847  135848   Emilda E Reinosa   \n",
              "135853  135854      David G Evans   \n",
              "136063  136064         Nicole Joe   \n",
              "\n",
              "                                              JobTitle    BasePay  \\\n",
              "0       GENERAL MANAGER-METROPOLITAN TRANSIT AUTHORITY  167411.18   \n",
              "1                      CAPTAIN III (POLICE DEPARTMENT)  155966.02   \n",
              "2                      CAPTAIN III (POLICE DEPARTMENT)  212739.13   \n",
              "3                 WIRE ROPE CABLE MAINTENANCE MECHANIC   77916.00   \n",
              "4         DEPUTY CHIEF OF DEPARTMENT,(FIRE DEPARTMENT)  134401.60   \n",
              "...                                                ...        ...   \n",
              "135701                              Nurse Practitioner   70635.61   \n",
              "135778                                   Special Nurse   60889.34   \n",
              "135847                                   Special Nurse   76305.74   \n",
              "135853                                   Special Nurse   71178.15   \n",
              "136063                                   Special Nurse   61276.59   \n",
              "\n",
              "        OvertimePay   OtherPay  Benefits   TotalPay  TotalPayBenefits  Year  \\\n",
              "0              0.00  400184.25       NaN  567595.43         567595.43  2011   \n",
              "1         245131.88  137811.38       NaN  538909.28         538909.28  2011   \n",
              "2         106088.18   16452.60       NaN  335279.91         335279.91  2011   \n",
              "3          56120.71  198306.90       NaN  332343.61         332343.61  2011   \n",
              "4           9737.00  182234.59       NaN  326373.19         326373.19  2011   \n",
              "...             ...        ...       ...        ...               ...   ...   \n",
              "135701         0.00    6550.41    771.88   77186.02          77957.90  2014   \n",
              "135778      6815.67    9041.21    767.47   76746.22          77513.69  2014   \n",
              "135847         0.00       0.00    763.08   76305.74          77068.82  2014   \n",
              "135853      2748.15    2354.40    762.81   76280.70          77043.51  2014   \n",
              "136063      8538.44    5078.67    748.95   74893.70          75642.65  2014   \n",
              "\n",
              "        Notes         Agency  Status  \n",
              "0         NaN  San Francisco     NaN  \n",
              "1         NaN  San Francisco     NaN  \n",
              "2         NaN  San Francisco     NaN  \n",
              "3         NaN  San Francisco     NaN  \n",
              "4         NaN  San Francisco     NaN  \n",
              "...       ...            ...     ...  \n",
              "135701    NaN  San Francisco     NaN  \n",
              "135778    NaN  San Francisco     NaN  \n",
              "135847    NaN  San Francisco     NaN  \n",
              "135853    NaN  San Francisco     NaN  \n",
              "136063    NaN  San Francisco     NaN  \n",
              "\n",
              "[69489 rows x 13 columns]"
            ],
            "text/html": [
              "\n",
              "  <div id=\"df-47960dea-b5ce-477c-b0b9-59e60a519c6e\">\n",
              "    <div class=\"colab-df-container\">\n",
              "      <div>\n",
              "<style scoped>\n",
              "    .dataframe tbody tr th:only-of-type {\n",
              "        vertical-align: middle;\n",
              "    }\n",
              "\n",
              "    .dataframe tbody tr th {\n",
              "        vertical-align: top;\n",
              "    }\n",
              "\n",
              "    .dataframe thead th {\n",
              "        text-align: right;\n",
              "    }\n",
              "</style>\n",
              "<table border=\"1\" class=\"dataframe\">\n",
              "  <thead>\n",
              "    <tr style=\"text-align: right;\">\n",
              "      <th></th>\n",
              "      <th>Id</th>\n",
              "      <th>EmployeeName</th>\n",
              "      <th>JobTitle</th>\n",
              "      <th>BasePay</th>\n",
              "      <th>OvertimePay</th>\n",
              "      <th>OtherPay</th>\n",
              "      <th>Benefits</th>\n",
              "      <th>TotalPay</th>\n",
              "      <th>TotalPayBenefits</th>\n",
              "      <th>Year</th>\n",
              "      <th>Notes</th>\n",
              "      <th>Agency</th>\n",
              "      <th>Status</th>\n",
              "    </tr>\n",
              "  </thead>\n",
              "  <tbody>\n",
              "    <tr>\n",
              "      <th>0</th>\n",
              "      <td>1</td>\n",
              "      <td>NATHANIEL FORD</td>\n",
              "      <td>GENERAL MANAGER-METROPOLITAN TRANSIT AUTHORITY</td>\n",
              "      <td>167411.18</td>\n",
              "      <td>0.00</td>\n",
              "      <td>400184.25</td>\n",
              "      <td>NaN</td>\n",
              "      <td>567595.43</td>\n",
              "      <td>567595.43</td>\n",
              "      <td>2011</td>\n",
              "      <td>NaN</td>\n",
              "      <td>San Francisco</td>\n",
              "      <td>NaN</td>\n",
              "    </tr>\n",
              "    <tr>\n",
              "      <th>1</th>\n",
              "      <td>2</td>\n",
              "      <td>GARY JIMENEZ</td>\n",
              "      <td>CAPTAIN III (POLICE DEPARTMENT)</td>\n",
              "      <td>155966.02</td>\n",
              "      <td>245131.88</td>\n",
              "      <td>137811.38</td>\n",
              "      <td>NaN</td>\n",
              "      <td>538909.28</td>\n",
              "      <td>538909.28</td>\n",
              "      <td>2011</td>\n",
              "      <td>NaN</td>\n",
              "      <td>San Francisco</td>\n",
              "      <td>NaN</td>\n",
              "    </tr>\n",
              "    <tr>\n",
              "      <th>2</th>\n",
              "      <td>3</td>\n",
              "      <td>ALBERT PARDINI</td>\n",
              "      <td>CAPTAIN III (POLICE DEPARTMENT)</td>\n",
              "      <td>212739.13</td>\n",
              "      <td>106088.18</td>\n",
              "      <td>16452.60</td>\n",
              "      <td>NaN</td>\n",
              "      <td>335279.91</td>\n",
              "      <td>335279.91</td>\n",
              "      <td>2011</td>\n",
              "      <td>NaN</td>\n",
              "      <td>San Francisco</td>\n",
              "      <td>NaN</td>\n",
              "    </tr>\n",
              "    <tr>\n",
              "      <th>3</th>\n",
              "      <td>4</td>\n",
              "      <td>CHRISTOPHER CHONG</td>\n",
              "      <td>WIRE ROPE CABLE MAINTENANCE MECHANIC</td>\n",
              "      <td>77916.00</td>\n",
              "      <td>56120.71</td>\n",
              "      <td>198306.90</td>\n",
              "      <td>NaN</td>\n",
              "      <td>332343.61</td>\n",
              "      <td>332343.61</td>\n",
              "      <td>2011</td>\n",
              "      <td>NaN</td>\n",
              "      <td>San Francisco</td>\n",
              "      <td>NaN</td>\n",
              "    </tr>\n",
              "    <tr>\n",
              "      <th>4</th>\n",
              "      <td>5</td>\n",
              "      <td>PATRICK GARDNER</td>\n",
              "      <td>DEPUTY CHIEF OF DEPARTMENT,(FIRE DEPARTMENT)</td>\n",
              "      <td>134401.60</td>\n",
              "      <td>9737.00</td>\n",
              "      <td>182234.59</td>\n",
              "      <td>NaN</td>\n",
              "      <td>326373.19</td>\n",
              "      <td>326373.19</td>\n",
              "      <td>2011</td>\n",
              "      <td>NaN</td>\n",
              "      <td>San Francisco</td>\n",
              "      <td>NaN</td>\n",
              "    </tr>\n",
              "    <tr>\n",
              "      <th>...</th>\n",
              "      <td>...</td>\n",
              "      <td>...</td>\n",
              "      <td>...</td>\n",
              "      <td>...</td>\n",
              "      <td>...</td>\n",
              "      <td>...</td>\n",
              "      <td>...</td>\n",
              "      <td>...</td>\n",
              "      <td>...</td>\n",
              "      <td>...</td>\n",
              "      <td>...</td>\n",
              "      <td>...</td>\n",
              "      <td>...</td>\n",
              "    </tr>\n",
              "    <tr>\n",
              "      <th>135701</th>\n",
              "      <td>135702</td>\n",
              "      <td>Christina S Jee</td>\n",
              "      <td>Nurse Practitioner</td>\n",
              "      <td>70635.61</td>\n",
              "      <td>0.00</td>\n",
              "      <td>6550.41</td>\n",
              "      <td>771.88</td>\n",
              "      <td>77186.02</td>\n",
              "      <td>77957.90</td>\n",
              "      <td>2014</td>\n",
              "      <td>NaN</td>\n",
              "      <td>San Francisco</td>\n",
              "      <td>NaN</td>\n",
              "    </tr>\n",
              "    <tr>\n",
              "      <th>135778</th>\n",
              "      <td>135779</td>\n",
              "      <td>Mary Ann T Abille</td>\n",
              "      <td>Special Nurse</td>\n",
              "      <td>60889.34</td>\n",
              "      <td>6815.67</td>\n",
              "      <td>9041.21</td>\n",
              "      <td>767.47</td>\n",
              "      <td>76746.22</td>\n",
              "      <td>77513.69</td>\n",
              "      <td>2014</td>\n",
              "      <td>NaN</td>\n",
              "      <td>San Francisco</td>\n",
              "      <td>NaN</td>\n",
              "    </tr>\n",
              "    <tr>\n",
              "      <th>135847</th>\n",
              "      <td>135848</td>\n",
              "      <td>Emilda E Reinosa</td>\n",
              "      <td>Special Nurse</td>\n",
              "      <td>76305.74</td>\n",
              "      <td>0.00</td>\n",
              "      <td>0.00</td>\n",
              "      <td>763.08</td>\n",
              "      <td>76305.74</td>\n",
              "      <td>77068.82</td>\n",
              "      <td>2014</td>\n",
              "      <td>NaN</td>\n",
              "      <td>San Francisco</td>\n",
              "      <td>NaN</td>\n",
              "    </tr>\n",
              "    <tr>\n",
              "      <th>135853</th>\n",
              "      <td>135854</td>\n",
              "      <td>David G Evans</td>\n",
              "      <td>Special Nurse</td>\n",
              "      <td>71178.15</td>\n",
              "      <td>2748.15</td>\n",
              "      <td>2354.40</td>\n",
              "      <td>762.81</td>\n",
              "      <td>76280.70</td>\n",
              "      <td>77043.51</td>\n",
              "      <td>2014</td>\n",
              "      <td>NaN</td>\n",
              "      <td>San Francisco</td>\n",
              "      <td>NaN</td>\n",
              "    </tr>\n",
              "    <tr>\n",
              "      <th>136063</th>\n",
              "      <td>136064</td>\n",
              "      <td>Nicole Joe</td>\n",
              "      <td>Special Nurse</td>\n",
              "      <td>61276.59</td>\n",
              "      <td>8538.44</td>\n",
              "      <td>5078.67</td>\n",
              "      <td>748.95</td>\n",
              "      <td>74893.70</td>\n",
              "      <td>75642.65</td>\n",
              "      <td>2014</td>\n",
              "      <td>NaN</td>\n",
              "      <td>San Francisco</td>\n",
              "      <td>NaN</td>\n",
              "    </tr>\n",
              "  </tbody>\n",
              "</table>\n",
              "<p>69489 rows × 13 columns</p>\n",
              "</div>\n",
              "      <button class=\"colab-df-convert\" onclick=\"convertToInteractive('df-47960dea-b5ce-477c-b0b9-59e60a519c6e')\"\n",
              "              title=\"Convert this dataframe to an interactive table.\"\n",
              "              style=\"display:none;\">\n",
              "        \n",
              "  <svg xmlns=\"http://www.w3.org/2000/svg\" height=\"24px\"viewBox=\"0 0 24 24\"\n",
              "       width=\"24px\">\n",
              "    <path d=\"M0 0h24v24H0V0z\" fill=\"none\"/>\n",
              "    <path d=\"M18.56 5.44l.94 2.06.94-2.06 2.06-.94-2.06-.94-.94-2.06-.94 2.06-2.06.94zm-11 1L8.5 8.5l.94-2.06 2.06-.94-2.06-.94L8.5 2.5l-.94 2.06-2.06.94zm10 10l.94 2.06.94-2.06 2.06-.94-2.06-.94-.94-2.06-.94 2.06-2.06.94z\"/><path d=\"M17.41 7.96l-1.37-1.37c-.4-.4-.92-.59-1.43-.59-.52 0-1.04.2-1.43.59L10.3 9.45l-7.72 7.72c-.78.78-.78 2.05 0 2.83L4 21.41c.39.39.9.59 1.41.59.51 0 1.02-.2 1.41-.59l7.78-7.78 2.81-2.81c.8-.78.8-2.07 0-2.86zM5.41 20L4 18.59l7.72-7.72 1.47 1.35L5.41 20z\"/>\n",
              "  </svg>\n",
              "      </button>\n",
              "      \n",
              "  <style>\n",
              "    .colab-df-container {\n",
              "      display:flex;\n",
              "      flex-wrap:wrap;\n",
              "      gap: 12px;\n",
              "    }\n",
              "\n",
              "    .colab-df-convert {\n",
              "      background-color: #E8F0FE;\n",
              "      border: none;\n",
              "      border-radius: 50%;\n",
              "      cursor: pointer;\n",
              "      display: none;\n",
              "      fill: #1967D2;\n",
              "      height: 32px;\n",
              "      padding: 0 0 0 0;\n",
              "      width: 32px;\n",
              "    }\n",
              "\n",
              "    .colab-df-convert:hover {\n",
              "      background-color: #E2EBFA;\n",
              "      box-shadow: 0px 1px 2px rgba(60, 64, 67, 0.3), 0px 1px 3px 1px rgba(60, 64, 67, 0.15);\n",
              "      fill: #174EA6;\n",
              "    }\n",
              "\n",
              "    [theme=dark] .colab-df-convert {\n",
              "      background-color: #3B4455;\n",
              "      fill: #D2E3FC;\n",
              "    }\n",
              "\n",
              "    [theme=dark] .colab-df-convert:hover {\n",
              "      background-color: #434B5C;\n",
              "      box-shadow: 0px 1px 3px 1px rgba(0, 0, 0, 0.15);\n",
              "      filter: drop-shadow(0px 1px 2px rgba(0, 0, 0, 0.3));\n",
              "      fill: #FFFFFF;\n",
              "    }\n",
              "  </style>\n",
              "\n",
              "      <script>\n",
              "        const buttonEl =\n",
              "          document.querySelector('#df-47960dea-b5ce-477c-b0b9-59e60a519c6e button.colab-df-convert');\n",
              "        buttonEl.style.display =\n",
              "          google.colab.kernel.accessAllowed ? 'block' : 'none';\n",
              "\n",
              "        async function convertToInteractive(key) {\n",
              "          const element = document.querySelector('#df-47960dea-b5ce-477c-b0b9-59e60a519c6e');\n",
              "          const dataTable =\n",
              "            await google.colab.kernel.invokeFunction('convertToInteractive',\n",
              "                                                     [key], {});\n",
              "          if (!dataTable) return;\n",
              "\n",
              "          const docLinkHtml = 'Like what you see? Visit the ' +\n",
              "            '<a target=\"_blank\" href=https://colab.research.google.com/notebooks/data_table.ipynb>data table notebook</a>'\n",
              "            + ' to learn more about interactive tables.';\n",
              "          element.innerHTML = '';\n",
              "          dataTable['output_type'] = 'display_data';\n",
              "          await google.colab.output.renderOutput(dataTable, element);\n",
              "          const docLink = document.createElement('div');\n",
              "          docLink.innerHTML = docLinkHtml;\n",
              "          element.appendChild(docLink);\n",
              "        }\n",
              "      </script>\n",
              "    </div>\n",
              "  </div>\n",
              "  "
            ]
          },
          "metadata": {},
          "execution_count": 92
        }
      ],
      "source": [
        "# YOUR CODE IS HERE \n",
        "\n",
        "sal[sal.TotalPay > sal.TotalPay.mean()]"
      ]
    },
    {
      "cell_type": "markdown",
      "metadata": {
        "id": "3bi5eqfCVhTQ"
      },
      "source": [
        "Desired Output:\n",
        "\n",
        "![image.png](https://i.ibb.co/nj84FbZ/assignment1d.png)"
      ]
    },
    {
      "cell_type": "code",
      "execution_count": 93,
      "metadata": {
        "id": "DzLK-P0zAd_T",
        "outputId": "08ae4112-1c9b-429f-d7ce-b3421bc24bc4",
        "colab": {
          "base_uri": "https://localhost:8080/"
        }
      },
      "outputs": [
        {
          "output_type": "execute_result",
          "data": {
            "text/plain": [
              "69489"
            ]
          },
          "metadata": {},
          "execution_count": 93
        }
      ],
      "source": [
        "# YOUR CODE IS HERE \n",
        "\n",
        "len(sal[sal.TotalPay > sal.TotalPay.mean()])"
      ]
    },
    {
      "cell_type": "raw",
      "metadata": {
        "id": "nbQClOoQVhTQ"
      },
      "source": [
        "Desired Output:\n",
        "\n",
        "69489"
      ]
    },
    {
      "cell_type": "markdown",
      "metadata": {
        "id": "msGIAyWWAd_T"
      },
      "source": [
        "### How much does ALBERT PARDINI make money (including benefits)?"
      ]
    },
    {
      "cell_type": "code",
      "execution_count": 94,
      "metadata": {
        "id": "Lp85lU0cAd_T",
        "outputId": "1ce559bd-fe88-48f1-d9ed-296fe3bcc7d2",
        "colab": {
          "base_uri": "https://localhost:8080/"
        }
      },
      "outputs": [
        {
          "output_type": "execute_result",
          "data": {
            "text/plain": [
              "2    335279.91\n",
              "Name: TotalPayBenefits, dtype: float64"
            ]
          },
          "metadata": {},
          "execution_count": 94
        }
      ],
      "source": [
        "# YOUR CODE IS HERE \n",
        "\n",
        "sal[sal['EmployeeName']=='ALBERT PARDINI']['TotalPayBenefits']"
      ]
    },
    {
      "cell_type": "raw",
      "metadata": {
        "id": "bz7Y2tCTVhTR"
      },
      "source": [
        "Desired Output:\n",
        "\n",
        "2    335279.91\n",
        "Name: TotalPayBenefits, dtype: float64"
      ]
    },
    {
      "cell_type": "markdown",
      "metadata": {
        "id": "EhGLJuApAd_U"
      },
      "source": [
        "### Who is the lowest paid person?"
      ]
    },
    {
      "cell_type": "code",
      "execution_count": 95,
      "metadata": {
        "id": "9x8QkcP2Ad_U",
        "outputId": "c648440f-aaae-4a3c-f20b-653e042d6fdc",
        "colab": {
          "base_uri": "https://localhost:8080/"
        }
      },
      "outputs": [
        {
          "output_type": "execute_result",
          "data": {
            "text/plain": [
              "148653    Joe Lopez\n",
              "Name: EmployeeName, dtype: object"
            ]
          },
          "metadata": {},
          "execution_count": 95
        }
      ],
      "source": [
        "# YOUR CODE IS HERE \n",
        "\n",
        "sal[sal.TotalPayBenefits == sal.TotalPayBenefits.min()]['EmployeeName']"
      ]
    },
    {
      "cell_type": "code",
      "execution_count": 95,
      "metadata": {
        "id": "PbIg-NlWVhTS"
      },
      "outputs": [],
      "source": [
        ""
      ]
    },
    {
      "cell_type": "raw",
      "metadata": {
        "id": "hO-WGqy-VhTS"
      },
      "source": [
        "Desired Output:\n",
        "\n",
        "148653    Joe Lopez\n",
        "Name: EmployeeName, dtype: object"
      ]
    },
    {
      "cell_type": "markdown",
      "metadata": {
        "id": "KX1hSaoCAd_U"
      },
      "source": [
        "### What are the unique Jobs in dataset?"
      ]
    },
    {
      "cell_type": "code",
      "execution_count": 96,
      "metadata": {
        "id": "O97fqU91Ad_U",
        "outputId": "fd60b75f-c95c-4402-937c-a3bd999ae1a7",
        "colab": {
          "base_uri": "https://localhost:8080/"
        }
      },
      "outputs": [
        {
          "output_type": "execute_result",
          "data": {
            "text/plain": [
              "array(['GENERAL MANAGER-METROPOLITAN TRANSIT AUTHORITY',\n",
              "       'CAPTAIN III (POLICE DEPARTMENT)',\n",
              "       'WIRE ROPE CABLE MAINTENANCE MECHANIC', ..., 'Conversion',\n",
              "       'Cashier 3', 'Not provided'], dtype=object)"
            ]
          },
          "metadata": {},
          "execution_count": 96
        }
      ],
      "source": [
        "# YOUR CODE IS HERE \n",
        "\n",
        "sal.JobTitle.unique()"
      ]
    },
    {
      "cell_type": "raw",
      "metadata": {
        "id": "OcCktouLVhTT"
      },
      "source": [
        "Desired Output:\n",
        "\n",
        "array(['GENERAL MANAGER-METROPOLITAN TRANSIT AUTHORITY',\n",
        "       'CAPTAIN III (POLICE DEPARTMENT)',\n",
        "       'WIRE ROPE CABLE MAINTENANCE MECHANIC', ..., 'Conversion',\n",
        "       'Cashier 3', 'Not provided'], dtype=object)"
      ]
    },
    {
      "cell_type": "markdown",
      "metadata": {
        "id": "CsYDrYVDAd_V"
      },
      "source": [
        "### List the top 3 least common Jobs in the dataset."
      ]
    },
    {
      "cell_type": "code",
      "execution_count": 97,
      "metadata": {
        "id": "DsZuPQVeAd_V",
        "outputId": "ff035879-c986-467e-a0ff-1584f1d802c9",
        "colab": {
          "base_uri": "https://localhost:8080/"
        }
      },
      "outputs": [
        {
          "output_type": "execute_result",
          "data": {
            "text/plain": [
              "COURT COMPUTER FACILITIES COORDINATOR             1\n",
              "AUTOMOTIVE BODY AND FENDER WORKER SUPERVISOR I    1\n",
              "VICTIM & WITNESS TECHNICIAN                       1\n",
              "Name: JobTitle, dtype: int64"
            ]
          },
          "metadata": {},
          "execution_count": 97
        }
      ],
      "source": [
        "# YOUR CODE IS HERE \n",
        "\n",
        "sal['JobTitle'].value_counts().tail(3)"
      ]
    },
    {
      "cell_type": "raw",
      "metadata": {
        "id": "OWLPVW-EVhTT"
      },
      "source": [
        "Desired Output:\n",
        "\n",
        "COURT COMPUTER FACILITIES COORDINATOR             1\n",
        "AUTOMOTIVE BODY AND FENDER WORKER SUPERVISOR I    1\n",
        "VICTIM & WITNESS TECHNICIAN                       1\n",
        "Name: JobTitle, dtype: int64"
      ]
    },
    {
      "cell_type": "markdown",
      "metadata": {
        "id": "6bY1SKD1Ad_V"
      },
      "source": [
        "### How many people earned more than avg in 2012?"
      ]
    },
    {
      "cell_type": "code",
      "execution_count": 98,
      "metadata": {
        "id": "W9yhfXieAd_W",
        "outputId": "24d02c31-f05d-468b-e663-36a49ef0c409",
        "colab": {
          "base_uri": "https://localhost:8080/"
        }
      },
      "outputs": [
        {
          "output_type": "execute_result",
          "data": {
            "text/plain": [
              "20366"
            ]
          },
          "metadata": {},
          "execution_count": 98
        }
      ],
      "source": [
        "# YOUR CODE IS HERE \n",
        "\n",
        "sal[(sal.TotalPayBenefits > sal.TotalPayBenefits.mean()) & (sal.Year == 2012)]['EmployeeName'].count()"
      ]
    },
    {
      "cell_type": "raw",
      "metadata": {
        "id": "wsPDLD-6VhTU"
      },
      "source": [
        "Desired Output:\n",
        "\n",
        "20366"
      ]
    },
    {
      "cell_type": "markdown",
      "metadata": {
        "id": "EM6JCaT-Ad_W"
      },
      "source": [
        "### How many people have a title of Manager in their jobs?"
      ]
    },
    {
      "cell_type": "code",
      "execution_count": 99,
      "metadata": {
        "id": "RjCxcXEWAd_Y",
        "outputId": "990edc04-6d4f-4322-c5ba-3b1a3a1927df",
        "colab": {
          "base_uri": "https://localhost:8080/"
        }
      },
      "outputs": [
        {
          "output_type": "execute_result",
          "data": {
            "text/plain": [
              "4110"
            ]
          },
          "metadata": {},
          "execution_count": 99
        }
      ],
      "source": [
        "# USE APPLY FUNCTION\n",
        "\n",
        "# YOUR CODE IS HERE \n",
        "\n",
        "len(sal[sal.JobTitle.apply(lambda x: True if 'manager' in x.lower() else False)])\n",
        "\n",
        "# len(sal[sal.JobTitle.str.lower().str.contains('manager')])\n",
        "# len(sal[sal.JobTitle.str.lower().str.find(\"manager\") != -1])"
      ]
    },
    {
      "cell_type": "raw",
      "metadata": {
        "id": "gFTRzFYSVhTU"
      },
      "source": [
        "Desired Output:\n",
        "\n",
        "4110"
      ]
    },
    {
      "cell_type": "markdown",
      "metadata": {
        "id": "UsSkiFyVAd_Y"
      },
      "source": [
        "### Take Id, EmployeeName, JobTitle, TotalPay and TotalPayBenefits columns with iloc and assign them as sal_new dataframe."
      ]
    },
    {
      "cell_type": "code",
      "execution_count": 100,
      "metadata": {
        "id": "31MPBM2UAd_Y",
        "outputId": "f8b0bef4-db79-42d5-d8c7-b56246d46a28",
        "scrolled": true,
        "colab": {
          "base_uri": "https://localhost:8080/",
          "height": 424
        }
      },
      "outputs": [
        {
          "output_type": "execute_result",
          "data": {
            "text/plain": [
              "            Id       EmployeeName  \\\n",
              "0            1     NATHANIEL FORD   \n",
              "1            2       GARY JIMENEZ   \n",
              "2            3     ALBERT PARDINI   \n",
              "3            4  CHRISTOPHER CHONG   \n",
              "4            5    PATRICK GARDNER   \n",
              "...        ...                ...   \n",
              "148649  148650      Roy I Tillery   \n",
              "148650  148651       Not provided   \n",
              "148651  148652       Not provided   \n",
              "148652  148653       Not provided   \n",
              "148653  148654          Joe Lopez   \n",
              "\n",
              "                                              JobTitle   TotalPay  \\\n",
              "0       GENERAL MANAGER-METROPOLITAN TRANSIT AUTHORITY  567595.43   \n",
              "1                      CAPTAIN III (POLICE DEPARTMENT)  538909.28   \n",
              "2                      CAPTAIN III (POLICE DEPARTMENT)  335279.91   \n",
              "3                 WIRE ROPE CABLE MAINTENANCE MECHANIC  332343.61   \n",
              "4         DEPUTY CHIEF OF DEPARTMENT,(FIRE DEPARTMENT)  326373.19   \n",
              "...                                                ...        ...   \n",
              "148649                                       Custodian       0.00   \n",
              "148650                                    Not provided       0.00   \n",
              "148651                                    Not provided       0.00   \n",
              "148652                                    Not provided       0.00   \n",
              "148653                      Counselor, Log Cabin Ranch    -618.13   \n",
              "\n",
              "        TotalPayBenefits  \n",
              "0              567595.43  \n",
              "1              538909.28  \n",
              "2              335279.91  \n",
              "3              332343.61  \n",
              "4              326373.19  \n",
              "...                  ...  \n",
              "148649              0.00  \n",
              "148650              0.00  \n",
              "148651              0.00  \n",
              "148652              0.00  \n",
              "148653           -618.13  \n",
              "\n",
              "[148654 rows x 5 columns]"
            ],
            "text/html": [
              "\n",
              "  <div id=\"df-d77ff091-524d-47fd-a6d8-65d2b18dba00\">\n",
              "    <div class=\"colab-df-container\">\n",
              "      <div>\n",
              "<style scoped>\n",
              "    .dataframe tbody tr th:only-of-type {\n",
              "        vertical-align: middle;\n",
              "    }\n",
              "\n",
              "    .dataframe tbody tr th {\n",
              "        vertical-align: top;\n",
              "    }\n",
              "\n",
              "    .dataframe thead th {\n",
              "        text-align: right;\n",
              "    }\n",
              "</style>\n",
              "<table border=\"1\" class=\"dataframe\">\n",
              "  <thead>\n",
              "    <tr style=\"text-align: right;\">\n",
              "      <th></th>\n",
              "      <th>Id</th>\n",
              "      <th>EmployeeName</th>\n",
              "      <th>JobTitle</th>\n",
              "      <th>TotalPay</th>\n",
              "      <th>TotalPayBenefits</th>\n",
              "    </tr>\n",
              "  </thead>\n",
              "  <tbody>\n",
              "    <tr>\n",
              "      <th>0</th>\n",
              "      <td>1</td>\n",
              "      <td>NATHANIEL FORD</td>\n",
              "      <td>GENERAL MANAGER-METROPOLITAN TRANSIT AUTHORITY</td>\n",
              "      <td>567595.43</td>\n",
              "      <td>567595.43</td>\n",
              "    </tr>\n",
              "    <tr>\n",
              "      <th>1</th>\n",
              "      <td>2</td>\n",
              "      <td>GARY JIMENEZ</td>\n",
              "      <td>CAPTAIN III (POLICE DEPARTMENT)</td>\n",
              "      <td>538909.28</td>\n",
              "      <td>538909.28</td>\n",
              "    </tr>\n",
              "    <tr>\n",
              "      <th>2</th>\n",
              "      <td>3</td>\n",
              "      <td>ALBERT PARDINI</td>\n",
              "      <td>CAPTAIN III (POLICE DEPARTMENT)</td>\n",
              "      <td>335279.91</td>\n",
              "      <td>335279.91</td>\n",
              "    </tr>\n",
              "    <tr>\n",
              "      <th>3</th>\n",
              "      <td>4</td>\n",
              "      <td>CHRISTOPHER CHONG</td>\n",
              "      <td>WIRE ROPE CABLE MAINTENANCE MECHANIC</td>\n",
              "      <td>332343.61</td>\n",
              "      <td>332343.61</td>\n",
              "    </tr>\n",
              "    <tr>\n",
              "      <th>4</th>\n",
              "      <td>5</td>\n",
              "      <td>PATRICK GARDNER</td>\n",
              "      <td>DEPUTY CHIEF OF DEPARTMENT,(FIRE DEPARTMENT)</td>\n",
              "      <td>326373.19</td>\n",
              "      <td>326373.19</td>\n",
              "    </tr>\n",
              "    <tr>\n",
              "      <th>...</th>\n",
              "      <td>...</td>\n",
              "      <td>...</td>\n",
              "      <td>...</td>\n",
              "      <td>...</td>\n",
              "      <td>...</td>\n",
              "    </tr>\n",
              "    <tr>\n",
              "      <th>148649</th>\n",
              "      <td>148650</td>\n",
              "      <td>Roy I Tillery</td>\n",
              "      <td>Custodian</td>\n",
              "      <td>0.00</td>\n",
              "      <td>0.00</td>\n",
              "    </tr>\n",
              "    <tr>\n",
              "      <th>148650</th>\n",
              "      <td>148651</td>\n",
              "      <td>Not provided</td>\n",
              "      <td>Not provided</td>\n",
              "      <td>0.00</td>\n",
              "      <td>0.00</td>\n",
              "    </tr>\n",
              "    <tr>\n",
              "      <th>148651</th>\n",
              "      <td>148652</td>\n",
              "      <td>Not provided</td>\n",
              "      <td>Not provided</td>\n",
              "      <td>0.00</td>\n",
              "      <td>0.00</td>\n",
              "    </tr>\n",
              "    <tr>\n",
              "      <th>148652</th>\n",
              "      <td>148653</td>\n",
              "      <td>Not provided</td>\n",
              "      <td>Not provided</td>\n",
              "      <td>0.00</td>\n",
              "      <td>0.00</td>\n",
              "    </tr>\n",
              "    <tr>\n",
              "      <th>148653</th>\n",
              "      <td>148654</td>\n",
              "      <td>Joe Lopez</td>\n",
              "      <td>Counselor, Log Cabin Ranch</td>\n",
              "      <td>-618.13</td>\n",
              "      <td>-618.13</td>\n",
              "    </tr>\n",
              "  </tbody>\n",
              "</table>\n",
              "<p>148654 rows × 5 columns</p>\n",
              "</div>\n",
              "      <button class=\"colab-df-convert\" onclick=\"convertToInteractive('df-d77ff091-524d-47fd-a6d8-65d2b18dba00')\"\n",
              "              title=\"Convert this dataframe to an interactive table.\"\n",
              "              style=\"display:none;\">\n",
              "        \n",
              "  <svg xmlns=\"http://www.w3.org/2000/svg\" height=\"24px\"viewBox=\"0 0 24 24\"\n",
              "       width=\"24px\">\n",
              "    <path d=\"M0 0h24v24H0V0z\" fill=\"none\"/>\n",
              "    <path d=\"M18.56 5.44l.94 2.06.94-2.06 2.06-.94-2.06-.94-.94-2.06-.94 2.06-2.06.94zm-11 1L8.5 8.5l.94-2.06 2.06-.94-2.06-.94L8.5 2.5l-.94 2.06-2.06.94zm10 10l.94 2.06.94-2.06 2.06-.94-2.06-.94-.94-2.06-.94 2.06-2.06.94z\"/><path d=\"M17.41 7.96l-1.37-1.37c-.4-.4-.92-.59-1.43-.59-.52 0-1.04.2-1.43.59L10.3 9.45l-7.72 7.72c-.78.78-.78 2.05 0 2.83L4 21.41c.39.39.9.59 1.41.59.51 0 1.02-.2 1.41-.59l7.78-7.78 2.81-2.81c.8-.78.8-2.07 0-2.86zM5.41 20L4 18.59l7.72-7.72 1.47 1.35L5.41 20z\"/>\n",
              "  </svg>\n",
              "      </button>\n",
              "      \n",
              "  <style>\n",
              "    .colab-df-container {\n",
              "      display:flex;\n",
              "      flex-wrap:wrap;\n",
              "      gap: 12px;\n",
              "    }\n",
              "\n",
              "    .colab-df-convert {\n",
              "      background-color: #E8F0FE;\n",
              "      border: none;\n",
              "      border-radius: 50%;\n",
              "      cursor: pointer;\n",
              "      display: none;\n",
              "      fill: #1967D2;\n",
              "      height: 32px;\n",
              "      padding: 0 0 0 0;\n",
              "      width: 32px;\n",
              "    }\n",
              "\n",
              "    .colab-df-convert:hover {\n",
              "      background-color: #E2EBFA;\n",
              "      box-shadow: 0px 1px 2px rgba(60, 64, 67, 0.3), 0px 1px 3px 1px rgba(60, 64, 67, 0.15);\n",
              "      fill: #174EA6;\n",
              "    }\n",
              "\n",
              "    [theme=dark] .colab-df-convert {\n",
              "      background-color: #3B4455;\n",
              "      fill: #D2E3FC;\n",
              "    }\n",
              "\n",
              "    [theme=dark] .colab-df-convert:hover {\n",
              "      background-color: #434B5C;\n",
              "      box-shadow: 0px 1px 3px 1px rgba(0, 0, 0, 0.15);\n",
              "      filter: drop-shadow(0px 1px 2px rgba(0, 0, 0, 0.3));\n",
              "      fill: #FFFFFF;\n",
              "    }\n",
              "  </style>\n",
              "\n",
              "      <script>\n",
              "        const buttonEl =\n",
              "          document.querySelector('#df-d77ff091-524d-47fd-a6d8-65d2b18dba00 button.colab-df-convert');\n",
              "        buttonEl.style.display =\n",
              "          google.colab.kernel.accessAllowed ? 'block' : 'none';\n",
              "\n",
              "        async function convertToInteractive(key) {\n",
              "          const element = document.querySelector('#df-d77ff091-524d-47fd-a6d8-65d2b18dba00');\n",
              "          const dataTable =\n",
              "            await google.colab.kernel.invokeFunction('convertToInteractive',\n",
              "                                                     [key], {});\n",
              "          if (!dataTable) return;\n",
              "\n",
              "          const docLinkHtml = 'Like what you see? Visit the ' +\n",
              "            '<a target=\"_blank\" href=https://colab.research.google.com/notebooks/data_table.ipynb>data table notebook</a>'\n",
              "            + ' to learn more about interactive tables.';\n",
              "          element.innerHTML = '';\n",
              "          dataTable['output_type'] = 'display_data';\n",
              "          await google.colab.output.renderOutput(dataTable, element);\n",
              "          const docLink = document.createElement('div');\n",
              "          docLink.innerHTML = docLinkHtml;\n",
              "          element.appendChild(docLink);\n",
              "        }\n",
              "      </script>\n",
              "    </div>\n",
              "  </div>\n",
              "  "
            ]
          },
          "metadata": {},
          "execution_count": 100
        }
      ],
      "source": [
        "# YOUR CODE IS HERE \n",
        "\n",
        "sal_new = sal.iloc[:, [0, 1, 2, 7, 8]]\n",
        "sal_new"
      ]
    },
    {
      "cell_type": "markdown",
      "metadata": {
        "id": "mo8F453jVhTV"
      },
      "source": [
        "Desired Output:\n",
        "\n",
        "![image.png](https://i.ibb.co/ZgFCbPm/assignment1e.png)"
      ]
    },
    {
      "cell_type": "markdown",
      "metadata": {
        "id": "IDfaMS0OAd_Z"
      },
      "source": [
        "### Take the columns betweeen EmployeeName and TotalPayBenefits with loc and assign them as sal_new df."
      ]
    },
    {
      "cell_type": "code",
      "execution_count": 101,
      "metadata": {
        "id": "iXoiBJ8tAd_Z",
        "outputId": "470bba99-7c0b-45bb-fc4e-f1135430d1a5",
        "colab": {
          "base_uri": "https://localhost:8080/",
          "height": 424
        }
      },
      "outputs": [
        {
          "output_type": "execute_result",
          "data": {
            "text/plain": [
              "             EmployeeName                                        JobTitle  \\\n",
              "0          NATHANIEL FORD  GENERAL MANAGER-METROPOLITAN TRANSIT AUTHORITY   \n",
              "1            GARY JIMENEZ                 CAPTAIN III (POLICE DEPARTMENT)   \n",
              "2          ALBERT PARDINI                 CAPTAIN III (POLICE DEPARTMENT)   \n",
              "3       CHRISTOPHER CHONG            WIRE ROPE CABLE MAINTENANCE MECHANIC   \n",
              "4         PATRICK GARDNER    DEPUTY CHIEF OF DEPARTMENT,(FIRE DEPARTMENT)   \n",
              "...                   ...                                             ...   \n",
              "148649      Roy I Tillery                                       Custodian   \n",
              "148650       Not provided                                    Not provided   \n",
              "148651       Not provided                                    Not provided   \n",
              "148652       Not provided                                    Not provided   \n",
              "148653          Joe Lopez                      Counselor, Log Cabin Ranch   \n",
              "\n",
              "         TotalPay  TotalPayBenefits  \n",
              "0       567595.43         567595.43  \n",
              "1       538909.28         538909.28  \n",
              "2       335279.91         335279.91  \n",
              "3       332343.61         332343.61  \n",
              "4       326373.19         326373.19  \n",
              "...           ...               ...  \n",
              "148649       0.00              0.00  \n",
              "148650       0.00              0.00  \n",
              "148651       0.00              0.00  \n",
              "148652       0.00              0.00  \n",
              "148653    -618.13           -618.13  \n",
              "\n",
              "[148654 rows x 4 columns]"
            ],
            "text/html": [
              "\n",
              "  <div id=\"df-c1e9d3d8-8cf2-40d0-bdcb-657b9d215191\">\n",
              "    <div class=\"colab-df-container\">\n",
              "      <div>\n",
              "<style scoped>\n",
              "    .dataframe tbody tr th:only-of-type {\n",
              "        vertical-align: middle;\n",
              "    }\n",
              "\n",
              "    .dataframe tbody tr th {\n",
              "        vertical-align: top;\n",
              "    }\n",
              "\n",
              "    .dataframe thead th {\n",
              "        text-align: right;\n",
              "    }\n",
              "</style>\n",
              "<table border=\"1\" class=\"dataframe\">\n",
              "  <thead>\n",
              "    <tr style=\"text-align: right;\">\n",
              "      <th></th>\n",
              "      <th>EmployeeName</th>\n",
              "      <th>JobTitle</th>\n",
              "      <th>TotalPay</th>\n",
              "      <th>TotalPayBenefits</th>\n",
              "    </tr>\n",
              "  </thead>\n",
              "  <tbody>\n",
              "    <tr>\n",
              "      <th>0</th>\n",
              "      <td>NATHANIEL FORD</td>\n",
              "      <td>GENERAL MANAGER-METROPOLITAN TRANSIT AUTHORITY</td>\n",
              "      <td>567595.43</td>\n",
              "      <td>567595.43</td>\n",
              "    </tr>\n",
              "    <tr>\n",
              "      <th>1</th>\n",
              "      <td>GARY JIMENEZ</td>\n",
              "      <td>CAPTAIN III (POLICE DEPARTMENT)</td>\n",
              "      <td>538909.28</td>\n",
              "      <td>538909.28</td>\n",
              "    </tr>\n",
              "    <tr>\n",
              "      <th>2</th>\n",
              "      <td>ALBERT PARDINI</td>\n",
              "      <td>CAPTAIN III (POLICE DEPARTMENT)</td>\n",
              "      <td>335279.91</td>\n",
              "      <td>335279.91</td>\n",
              "    </tr>\n",
              "    <tr>\n",
              "      <th>3</th>\n",
              "      <td>CHRISTOPHER CHONG</td>\n",
              "      <td>WIRE ROPE CABLE MAINTENANCE MECHANIC</td>\n",
              "      <td>332343.61</td>\n",
              "      <td>332343.61</td>\n",
              "    </tr>\n",
              "    <tr>\n",
              "      <th>4</th>\n",
              "      <td>PATRICK GARDNER</td>\n",
              "      <td>DEPUTY CHIEF OF DEPARTMENT,(FIRE DEPARTMENT)</td>\n",
              "      <td>326373.19</td>\n",
              "      <td>326373.19</td>\n",
              "    </tr>\n",
              "    <tr>\n",
              "      <th>...</th>\n",
              "      <td>...</td>\n",
              "      <td>...</td>\n",
              "      <td>...</td>\n",
              "      <td>...</td>\n",
              "    </tr>\n",
              "    <tr>\n",
              "      <th>148649</th>\n",
              "      <td>Roy I Tillery</td>\n",
              "      <td>Custodian</td>\n",
              "      <td>0.00</td>\n",
              "      <td>0.00</td>\n",
              "    </tr>\n",
              "    <tr>\n",
              "      <th>148650</th>\n",
              "      <td>Not provided</td>\n",
              "      <td>Not provided</td>\n",
              "      <td>0.00</td>\n",
              "      <td>0.00</td>\n",
              "    </tr>\n",
              "    <tr>\n",
              "      <th>148651</th>\n",
              "      <td>Not provided</td>\n",
              "      <td>Not provided</td>\n",
              "      <td>0.00</td>\n",
              "      <td>0.00</td>\n",
              "    </tr>\n",
              "    <tr>\n",
              "      <th>148652</th>\n",
              "      <td>Not provided</td>\n",
              "      <td>Not provided</td>\n",
              "      <td>0.00</td>\n",
              "      <td>0.00</td>\n",
              "    </tr>\n",
              "    <tr>\n",
              "      <th>148653</th>\n",
              "      <td>Joe Lopez</td>\n",
              "      <td>Counselor, Log Cabin Ranch</td>\n",
              "      <td>-618.13</td>\n",
              "      <td>-618.13</td>\n",
              "    </tr>\n",
              "  </tbody>\n",
              "</table>\n",
              "<p>148654 rows × 4 columns</p>\n",
              "</div>\n",
              "      <button class=\"colab-df-convert\" onclick=\"convertToInteractive('df-c1e9d3d8-8cf2-40d0-bdcb-657b9d215191')\"\n",
              "              title=\"Convert this dataframe to an interactive table.\"\n",
              "              style=\"display:none;\">\n",
              "        \n",
              "  <svg xmlns=\"http://www.w3.org/2000/svg\" height=\"24px\"viewBox=\"0 0 24 24\"\n",
              "       width=\"24px\">\n",
              "    <path d=\"M0 0h24v24H0V0z\" fill=\"none\"/>\n",
              "    <path d=\"M18.56 5.44l.94 2.06.94-2.06 2.06-.94-2.06-.94-.94-2.06-.94 2.06-2.06.94zm-11 1L8.5 8.5l.94-2.06 2.06-.94-2.06-.94L8.5 2.5l-.94 2.06-2.06.94zm10 10l.94 2.06.94-2.06 2.06-.94-2.06-.94-.94-2.06-.94 2.06-2.06.94z\"/><path d=\"M17.41 7.96l-1.37-1.37c-.4-.4-.92-.59-1.43-.59-.52 0-1.04.2-1.43.59L10.3 9.45l-7.72 7.72c-.78.78-.78 2.05 0 2.83L4 21.41c.39.39.9.59 1.41.59.51 0 1.02-.2 1.41-.59l7.78-7.78 2.81-2.81c.8-.78.8-2.07 0-2.86zM5.41 20L4 18.59l7.72-7.72 1.47 1.35L5.41 20z\"/>\n",
              "  </svg>\n",
              "      </button>\n",
              "      \n",
              "  <style>\n",
              "    .colab-df-container {\n",
              "      display:flex;\n",
              "      flex-wrap:wrap;\n",
              "      gap: 12px;\n",
              "    }\n",
              "\n",
              "    .colab-df-convert {\n",
              "      background-color: #E8F0FE;\n",
              "      border: none;\n",
              "      border-radius: 50%;\n",
              "      cursor: pointer;\n",
              "      display: none;\n",
              "      fill: #1967D2;\n",
              "      height: 32px;\n",
              "      padding: 0 0 0 0;\n",
              "      width: 32px;\n",
              "    }\n",
              "\n",
              "    .colab-df-convert:hover {\n",
              "      background-color: #E2EBFA;\n",
              "      box-shadow: 0px 1px 2px rgba(60, 64, 67, 0.3), 0px 1px 3px 1px rgba(60, 64, 67, 0.15);\n",
              "      fill: #174EA6;\n",
              "    }\n",
              "\n",
              "    [theme=dark] .colab-df-convert {\n",
              "      background-color: #3B4455;\n",
              "      fill: #D2E3FC;\n",
              "    }\n",
              "\n",
              "    [theme=dark] .colab-df-convert:hover {\n",
              "      background-color: #434B5C;\n",
              "      box-shadow: 0px 1px 3px 1px rgba(0, 0, 0, 0.15);\n",
              "      filter: drop-shadow(0px 1px 2px rgba(0, 0, 0, 0.3));\n",
              "      fill: #FFFFFF;\n",
              "    }\n",
              "  </style>\n",
              "\n",
              "      <script>\n",
              "        const buttonEl =\n",
              "          document.querySelector('#df-c1e9d3d8-8cf2-40d0-bdcb-657b9d215191 button.colab-df-convert');\n",
              "        buttonEl.style.display =\n",
              "          google.colab.kernel.accessAllowed ? 'block' : 'none';\n",
              "\n",
              "        async function convertToInteractive(key) {\n",
              "          const element = document.querySelector('#df-c1e9d3d8-8cf2-40d0-bdcb-657b9d215191');\n",
              "          const dataTable =\n",
              "            await google.colab.kernel.invokeFunction('convertToInteractive',\n",
              "                                                     [key], {});\n",
              "          if (!dataTable) return;\n",
              "\n",
              "          const docLinkHtml = 'Like what you see? Visit the ' +\n",
              "            '<a target=\"_blank\" href=https://colab.research.google.com/notebooks/data_table.ipynb>data table notebook</a>'\n",
              "            + ' to learn more about interactive tables.';\n",
              "          element.innerHTML = '';\n",
              "          dataTable['output_type'] = 'display_data';\n",
              "          await google.colab.output.renderOutput(dataTable, element);\n",
              "          const docLink = document.createElement('div');\n",
              "          docLink.innerHTML = docLinkHtml;\n",
              "          element.appendChild(docLink);\n",
              "        }\n",
              "      </script>\n",
              "    </div>\n",
              "  </div>\n",
              "  "
            ]
          },
          "metadata": {},
          "execution_count": 101
        }
      ],
      "source": [
        "# YOUR CODE IS HERE \n",
        "\n",
        "sal_new = sal_new.loc[:, 'EmployeeName':'TotalPayBenefits']\n",
        "sal_new"
      ]
    },
    {
      "cell_type": "markdown",
      "metadata": {
        "id": "zjJX4UH5VhTV"
      },
      "source": [
        "Desired Output:\n",
        "\n",
        "![image.png](https://i.ibb.co/s2CYS7H/assignment1f.png)"
      ]
    },
    {
      "cell_type": "markdown",
      "metadata": {
        "id": "GLNh6jmxAd_a"
      },
      "source": [
        "### Print out the names of the employees who earn more than min but less than avg."
      ]
    },
    {
      "cell_type": "code",
      "execution_count": 102,
      "metadata": {
        "id": "2lk1ZwS9Ad_a",
        "outputId": "ae9ee7ab-3028-43ac-8784-e8ac6ea5b75e",
        "scrolled": true,
        "colab": {
          "base_uri": "https://localhost:8080/",
          "height": 424
        }
      },
      "outputs": [
        {
          "output_type": "execute_result",
          "data": {
            "text/plain": [
              "          EmployeeName  TotalPayBenefits\n",
              "10806          KWE LEE          93691.15\n",
              "10807   MIGUEL CARO JR          93682.74\n",
              "10808    JOANNE MORRIS          93680.53\n",
              "10809    LAYLA WELBORN          93676.88\n",
              "10810          LE BANH          93675.39\n",
              "...                ...               ...\n",
              "148648     Leon Walker              0.00\n",
              "148649   Roy I Tillery              0.00\n",
              "148650    Not provided              0.00\n",
              "148651    Not provided              0.00\n",
              "148652    Not provided              0.00\n",
              "\n",
              "[75649 rows x 2 columns]"
            ],
            "text/html": [
              "\n",
              "  <div id=\"df-38f48971-9f01-4aa7-a375-68a99790a5fe\">\n",
              "    <div class=\"colab-df-container\">\n",
              "      <div>\n",
              "<style scoped>\n",
              "    .dataframe tbody tr th:only-of-type {\n",
              "        vertical-align: middle;\n",
              "    }\n",
              "\n",
              "    .dataframe tbody tr th {\n",
              "        vertical-align: top;\n",
              "    }\n",
              "\n",
              "    .dataframe thead th {\n",
              "        text-align: right;\n",
              "    }\n",
              "</style>\n",
              "<table border=\"1\" class=\"dataframe\">\n",
              "  <thead>\n",
              "    <tr style=\"text-align: right;\">\n",
              "      <th></th>\n",
              "      <th>EmployeeName</th>\n",
              "      <th>TotalPayBenefits</th>\n",
              "    </tr>\n",
              "  </thead>\n",
              "  <tbody>\n",
              "    <tr>\n",
              "      <th>10806</th>\n",
              "      <td>KWE LEE</td>\n",
              "      <td>93691.15</td>\n",
              "    </tr>\n",
              "    <tr>\n",
              "      <th>10807</th>\n",
              "      <td>MIGUEL CARO JR</td>\n",
              "      <td>93682.74</td>\n",
              "    </tr>\n",
              "    <tr>\n",
              "      <th>10808</th>\n",
              "      <td>JOANNE MORRIS</td>\n",
              "      <td>93680.53</td>\n",
              "    </tr>\n",
              "    <tr>\n",
              "      <th>10809</th>\n",
              "      <td>LAYLA WELBORN</td>\n",
              "      <td>93676.88</td>\n",
              "    </tr>\n",
              "    <tr>\n",
              "      <th>10810</th>\n",
              "      <td>LE BANH</td>\n",
              "      <td>93675.39</td>\n",
              "    </tr>\n",
              "    <tr>\n",
              "      <th>...</th>\n",
              "      <td>...</td>\n",
              "      <td>...</td>\n",
              "    </tr>\n",
              "    <tr>\n",
              "      <th>148648</th>\n",
              "      <td>Leon Walker</td>\n",
              "      <td>0.00</td>\n",
              "    </tr>\n",
              "    <tr>\n",
              "      <th>148649</th>\n",
              "      <td>Roy I Tillery</td>\n",
              "      <td>0.00</td>\n",
              "    </tr>\n",
              "    <tr>\n",
              "      <th>148650</th>\n",
              "      <td>Not provided</td>\n",
              "      <td>0.00</td>\n",
              "    </tr>\n",
              "    <tr>\n",
              "      <th>148651</th>\n",
              "      <td>Not provided</td>\n",
              "      <td>0.00</td>\n",
              "    </tr>\n",
              "    <tr>\n",
              "      <th>148652</th>\n",
              "      <td>Not provided</td>\n",
              "      <td>0.00</td>\n",
              "    </tr>\n",
              "  </tbody>\n",
              "</table>\n",
              "<p>75649 rows × 2 columns</p>\n",
              "</div>\n",
              "      <button class=\"colab-df-convert\" onclick=\"convertToInteractive('df-38f48971-9f01-4aa7-a375-68a99790a5fe')\"\n",
              "              title=\"Convert this dataframe to an interactive table.\"\n",
              "              style=\"display:none;\">\n",
              "        \n",
              "  <svg xmlns=\"http://www.w3.org/2000/svg\" height=\"24px\"viewBox=\"0 0 24 24\"\n",
              "       width=\"24px\">\n",
              "    <path d=\"M0 0h24v24H0V0z\" fill=\"none\"/>\n",
              "    <path d=\"M18.56 5.44l.94 2.06.94-2.06 2.06-.94-2.06-.94-.94-2.06-.94 2.06-2.06.94zm-11 1L8.5 8.5l.94-2.06 2.06-.94-2.06-.94L8.5 2.5l-.94 2.06-2.06.94zm10 10l.94 2.06.94-2.06 2.06-.94-2.06-.94-.94-2.06-.94 2.06-2.06.94z\"/><path d=\"M17.41 7.96l-1.37-1.37c-.4-.4-.92-.59-1.43-.59-.52 0-1.04.2-1.43.59L10.3 9.45l-7.72 7.72c-.78.78-.78 2.05 0 2.83L4 21.41c.39.39.9.59 1.41.59.51 0 1.02-.2 1.41-.59l7.78-7.78 2.81-2.81c.8-.78.8-2.07 0-2.86zM5.41 20L4 18.59l7.72-7.72 1.47 1.35L5.41 20z\"/>\n",
              "  </svg>\n",
              "      </button>\n",
              "      \n",
              "  <style>\n",
              "    .colab-df-container {\n",
              "      display:flex;\n",
              "      flex-wrap:wrap;\n",
              "      gap: 12px;\n",
              "    }\n",
              "\n",
              "    .colab-df-convert {\n",
              "      background-color: #E8F0FE;\n",
              "      border: none;\n",
              "      border-radius: 50%;\n",
              "      cursor: pointer;\n",
              "      display: none;\n",
              "      fill: #1967D2;\n",
              "      height: 32px;\n",
              "      padding: 0 0 0 0;\n",
              "      width: 32px;\n",
              "    }\n",
              "\n",
              "    .colab-df-convert:hover {\n",
              "      background-color: #E2EBFA;\n",
              "      box-shadow: 0px 1px 2px rgba(60, 64, 67, 0.3), 0px 1px 3px 1px rgba(60, 64, 67, 0.15);\n",
              "      fill: #174EA6;\n",
              "    }\n",
              "\n",
              "    [theme=dark] .colab-df-convert {\n",
              "      background-color: #3B4455;\n",
              "      fill: #D2E3FC;\n",
              "    }\n",
              "\n",
              "    [theme=dark] .colab-df-convert:hover {\n",
              "      background-color: #434B5C;\n",
              "      box-shadow: 0px 1px 3px 1px rgba(0, 0, 0, 0.15);\n",
              "      filter: drop-shadow(0px 1px 2px rgba(0, 0, 0, 0.3));\n",
              "      fill: #FFFFFF;\n",
              "    }\n",
              "  </style>\n",
              "\n",
              "      <script>\n",
              "        const buttonEl =\n",
              "          document.querySelector('#df-38f48971-9f01-4aa7-a375-68a99790a5fe button.colab-df-convert');\n",
              "        buttonEl.style.display =\n",
              "          google.colab.kernel.accessAllowed ? 'block' : 'none';\n",
              "\n",
              "        async function convertToInteractive(key) {\n",
              "          const element = document.querySelector('#df-38f48971-9f01-4aa7-a375-68a99790a5fe');\n",
              "          const dataTable =\n",
              "            await google.colab.kernel.invokeFunction('convertToInteractive',\n",
              "                                                     [key], {});\n",
              "          if (!dataTable) return;\n",
              "\n",
              "          const docLinkHtml = 'Like what you see? Visit the ' +\n",
              "            '<a target=\"_blank\" href=https://colab.research.google.com/notebooks/data_table.ipynb>data table notebook</a>'\n",
              "            + ' to learn more about interactive tables.';\n",
              "          element.innerHTML = '';\n",
              "          dataTable['output_type'] = 'display_data';\n",
              "          await google.colab.output.renderOutput(dataTable, element);\n",
              "          const docLink = document.createElement('div');\n",
              "          docLink.innerHTML = docLinkHtml;\n",
              "          element.appendChild(docLink);\n",
              "        }\n",
              "      </script>\n",
              "    </div>\n",
              "  </div>\n",
              "  "
            ]
          },
          "metadata": {},
          "execution_count": 102
        }
      ],
      "source": [
        "# YOUR CODE IS HERE \n",
        "\n",
        "sal[(sal.TotalPayBenefits > sal.TotalPayBenefits.min()) & (sal.TotalPayBenefits < sal.TotalPayBenefits.mean())]\\\n",
        "                                                                         [['EmployeeName', 'TotalPayBenefits']]"
      ]
    },
    {
      "cell_type": "markdown",
      "metadata": {
        "id": "PnsdZjnnAd_a"
      },
      "source": [
        "Desired Output:\n",
        "\n",
        "![image.png](https://i.ibb.co/mtNB2TX/assignment1g.png)"
      ]
    },
    {
      "cell_type": "markdown",
      "metadata": {
        "id": "iwXUWudDVhTW"
      },
      "source": [
        "<p style=\"text-align: center;\"><img src=\"https://docs.google.com/uc?id=1lY0Uj5R04yMY3-ZppPWxqCr5pvBLYPnV\" class=\"img-fluid\" \n",
        "alt=\"CLRSWY\"></p>\n",
        "\n",
        "## <p style=\"background-color:#FDFEFE; font-family:newtimeroman; color:#9d4f8c; font-size:100%; text-align:center; border-radius:10px 10px;\">WAY TO REINVENT YOURSELF</p>\n",
        "\n",
        "________"
      ]
    }
  ],
  "metadata": {
    "anaconda-cloud": {},
    "colab": {
      "name": "DAwPy_Assignment_1.ipynb",
      "provenance": []
    },
    "kernelspec": {
      "display_name": "Python 3",
      "language": "python",
      "name": "python3"
    },
    "language_info": {
      "codemirror_mode": {
        "name": "ipython",
        "version": 3
      },
      "file_extension": ".py",
      "mimetype": "text/x-python",
      "name": "python",
      "nbconvert_exporter": "python",
      "pygments_lexer": "ipython3",
      "version": "3.8.13"
    },
    "toc": {
      "base_numbering": 1,
      "nav_menu": {},
      "number_sections": false,
      "sideBar": true,
      "skip_h1_title": false,
      "title_cell": "Table of Contents",
      "title_sidebar": "Contents",
      "toc_cell": false,
      "toc_position": {},
      "toc_section_display": true,
      "toc_window_display": true
    }
  },
  "nbformat": 4,
  "nbformat_minor": 0
}